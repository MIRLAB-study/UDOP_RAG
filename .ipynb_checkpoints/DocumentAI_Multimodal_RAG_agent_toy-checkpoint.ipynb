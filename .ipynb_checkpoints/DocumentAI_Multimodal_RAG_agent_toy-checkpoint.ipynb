{
 "cells": [
  {
   "cell_type": "markdown",
   "id": "OLZTRWQmvPLK",
   "metadata": {
    "id": "OLZTRWQmvPLK"
   },
   "source": [
    "# Document AI\n",
    "\n"
   ]
  },
  {
   "cell_type": "markdown",
   "id": "bdCtXxh-Rlj5",
   "metadata": {
    "id": "bdCtXxh-Rlj5"
   },
   "source": []
  },
  {
   "cell_type": "markdown",
   "id": "djZtgXCxSINd",
   "metadata": {
    "id": "djZtgXCxSINd"
   },
   "source": [
    "## 패키지"
   ]
  },
  {
   "cell_type": "code",
   "execution_count": null,
   "id": "OF_3ZBg7vO9m",
   "metadata": {
    "colab": {
     "base_uri": "https://localhost:8080/"
    },
    "collapsed": true,
    "id": "OF_3ZBg7vO9m",
    "jupyter": {
     "outputs_hidden": true
    },
    "outputId": "a9e64408-71a4-4863-c132-ce3a1d7513c1"
   },
   "outputs": [
    {
     "name": "stdout",
     "output_type": "stream",
     "text": [
      "Collecting transformers==4.25.1\n",
      "  Downloading transformers-4.25.1-py3-none-any.whl (5.8 MB)\n",
      "\u001b[2K     \u001b[90m━━━━━━━━━━━━━━━━━━━━━━━━━━━━━━━━━━━━━━━━\u001b[0m \u001b[32m5.8/5.8 MB\u001b[0m \u001b[31m24.1 MB/s\u001b[0m eta \u001b[36m0:00:00\u001b[0m\n",
      "\u001b[?25hRequirement already satisfied: filelock in /usr/local/lib/python3.10/dist-packages (from transformers==4.25.1) (3.15.3)\n",
      "Requirement already satisfied: huggingface-hub<1.0,>=0.10.0 in /usr/local/lib/python3.10/dist-packages (from transformers==4.25.1) (0.23.4)\n",
      "Requirement already satisfied: numpy>=1.17 in /usr/local/lib/python3.10/dist-packages (from transformers==4.25.1) (1.25.2)\n",
      "Requirement already satisfied: packaging>=20.0 in /usr/local/lib/python3.10/dist-packages (from transformers==4.25.1) (24.1)\n",
      "Requirement already satisfied: pyyaml>=5.1 in /usr/local/lib/python3.10/dist-packages (from transformers==4.25.1) (6.0.1)\n",
      "Requirement already satisfied: regex!=2019.12.17 in /usr/local/lib/python3.10/dist-packages (from transformers==4.25.1) (2024.5.15)\n",
      "Requirement already satisfied: requests in /usr/local/lib/python3.10/dist-packages (from transformers==4.25.1) (2.31.0)\n",
      "Collecting tokenizers!=0.11.3,<0.14,>=0.11.1 (from transformers==4.25.1)\n",
      "  Downloading tokenizers-0.13.3-cp310-cp310-manylinux_2_17_x86_64.manylinux2014_x86_64.whl (7.8 MB)\n",
      "\u001b[2K     \u001b[90m━━━━━━━━━━━━━━━━━━━━━━━━━━━━━━━━━━━━━━━━\u001b[0m \u001b[32m7.8/7.8 MB\u001b[0m \u001b[31m41.8 MB/s\u001b[0m eta \u001b[36m0:00:00\u001b[0m\n",
      "\u001b[?25hRequirement already satisfied: tqdm>=4.27 in /usr/local/lib/python3.10/dist-packages (from transformers==4.25.1) (4.66.4)\n",
      "Requirement already satisfied: fsspec>=2023.5.0 in /usr/local/lib/python3.10/dist-packages (from huggingface-hub<1.0,>=0.10.0->transformers==4.25.1) (2023.6.0)\n",
      "Requirement already satisfied: typing-extensions>=3.7.4.3 in /usr/local/lib/python3.10/dist-packages (from huggingface-hub<1.0,>=0.10.0->transformers==4.25.1) (4.12.2)\n",
      "Requirement already satisfied: charset-normalizer<4,>=2 in /usr/local/lib/python3.10/dist-packages (from requests->transformers==4.25.1) (3.3.2)\n",
      "Requirement already satisfied: idna<4,>=2.5 in /usr/local/lib/python3.10/dist-packages (from requests->transformers==4.25.1) (3.7)\n",
      "Requirement already satisfied: urllib3<3,>=1.21.1 in /usr/local/lib/python3.10/dist-packages (from requests->transformers==4.25.1) (2.0.7)\n",
      "Requirement already satisfied: certifi>=2017.4.17 in /usr/local/lib/python3.10/dist-packages (from requests->transformers==4.25.1) (2024.6.2)\n",
      "Installing collected packages: tokenizers, transformers\n",
      "  Attempting uninstall: tokenizers\n",
      "    Found existing installation: tokenizers 0.19.1\n",
      "    Uninstalling tokenizers-0.19.1:\n",
      "      Successfully uninstalled tokenizers-0.19.1\n",
      "  Attempting uninstall: transformers\n",
      "    Found existing installation: transformers 4.41.2\n",
      "    Uninstalling transformers-4.41.2:\n",
      "      Successfully uninstalled transformers-4.41.2\n",
      "Successfully installed tokenizers-0.13.3 transformers-4.25.1\n",
      "Collecting pytorch-lightning==1.6.4\n",
      "  Downloading pytorch_lightning-1.6.4-py3-none-any.whl (585 kB)\n",
      "\u001b[2K     \u001b[90m━━━━━━━━━━━━━━━━━━━━━━━━━━━━━━━━━━━━━━━━\u001b[0m \u001b[32m585.5/585.5 kB\u001b[0m \u001b[31m15.1 MB/s\u001b[0m eta \u001b[36m0:00:00\u001b[0m\n",
      "\u001b[?25hRequirement already satisfied: numpy>=1.17.2 in /usr/local/lib/python3.10/dist-packages (from pytorch-lightning==1.6.4) (1.25.2)\n",
      "Requirement already satisfied: torch>=1.8.* in /usr/local/lib/python3.10/dist-packages (from pytorch-lightning==1.6.4) (2.3.0+cu121)\n",
      "Requirement already satisfied: tqdm>=4.57.0 in /usr/local/lib/python3.10/dist-packages (from pytorch-lightning==1.6.4) (4.66.4)\n",
      "Requirement already satisfied: PyYAML>=5.4 in /usr/local/lib/python3.10/dist-packages (from pytorch-lightning==1.6.4) (6.0.1)\n",
      "Requirement already satisfied: fsspec[http]!=2021.06.0,>=2021.05.0 in /usr/local/lib/python3.10/dist-packages (from pytorch-lightning==1.6.4) (2023.6.0)\n",
      "Requirement already satisfied: tensorboard>=2.2.0 in /usr/local/lib/python3.10/dist-packages (from pytorch-lightning==1.6.4) (2.15.2)\n",
      "Collecting torchmetrics>=0.4.1 (from pytorch-lightning==1.6.4)\n",
      "  Downloading torchmetrics-1.4.0.post0-py3-none-any.whl (868 kB)\n",
      "\u001b[2K     \u001b[90m━━━━━━━━━━━━━━━━━━━━━━━━━━━━━━━━━━━━━━━━\u001b[0m \u001b[32m868.8/868.8 kB\u001b[0m \u001b[31m52.6 MB/s\u001b[0m eta \u001b[36m0:00:00\u001b[0m\n",
      "\u001b[?25hCollecting pyDeprecate>=0.3.1 (from pytorch-lightning==1.6.4)\n",
      "  Downloading pyDeprecate-0.3.2-py3-none-any.whl (10 kB)\n",
      "Requirement already satisfied: packaging>=17.0 in /usr/local/lib/python3.10/dist-packages (from pytorch-lightning==1.6.4) (24.1)\n",
      "Requirement already satisfied: typing-extensions>=4.0.0 in /usr/local/lib/python3.10/dist-packages (from pytorch-lightning==1.6.4) (4.12.2)\n",
      "Collecting protobuf<=3.20.1 (from pytorch-lightning==1.6.4)\n",
      "  Downloading protobuf-3.20.1-cp310-cp310-manylinux_2_12_x86_64.manylinux2010_x86_64.whl (1.1 MB)\n",
      "\u001b[2K     \u001b[90m━━━━━━━━━━━━━━━━━━━━━━━━━━━━━━━━━━━━━━━━\u001b[0m \u001b[32m1.1/1.1 MB\u001b[0m \u001b[31m40.9 MB/s\u001b[0m eta \u001b[36m0:00:00\u001b[0m\n",
      "\u001b[?25hRequirement already satisfied: requests in /usr/local/lib/python3.10/dist-packages (from fsspec[http]!=2021.06.0,>=2021.05.0->pytorch-lightning==1.6.4) (2.31.0)\n",
      "Requirement already satisfied: aiohttp!=4.0.0a0,!=4.0.0a1 in /usr/local/lib/python3.10/dist-packages (from fsspec[http]!=2021.06.0,>=2021.05.0->pytorch-lightning==1.6.4) (3.9.5)\n",
      "Requirement already satisfied: absl-py>=0.4 in /usr/local/lib/python3.10/dist-packages (from tensorboard>=2.2.0->pytorch-lightning==1.6.4) (1.4.0)\n",
      "Requirement already satisfied: grpcio>=1.48.2 in /usr/local/lib/python3.10/dist-packages (from tensorboard>=2.2.0->pytorch-lightning==1.6.4) (1.64.1)\n",
      "Requirement already satisfied: google-auth<3,>=1.6.3 in /usr/local/lib/python3.10/dist-packages (from tensorboard>=2.2.0->pytorch-lightning==1.6.4) (2.27.0)\n",
      "Requirement already satisfied: google-auth-oauthlib<2,>=0.5 in /usr/local/lib/python3.10/dist-packages (from tensorboard>=2.2.0->pytorch-lightning==1.6.4) (1.2.0)\n",
      "Requirement already satisfied: markdown>=2.6.8 in /usr/local/lib/python3.10/dist-packages (from tensorboard>=2.2.0->pytorch-lightning==1.6.4) (3.6)\n",
      "Requirement already satisfied: setuptools>=41.0.0 in /usr/local/lib/python3.10/dist-packages (from tensorboard>=2.2.0->pytorch-lightning==1.6.4) (67.7.2)\n",
      "Requirement already satisfied: six>1.9 in /usr/local/lib/python3.10/dist-packages (from tensorboard>=2.2.0->pytorch-lightning==1.6.4) (1.16.0)\n",
      "Requirement already satisfied: tensorboard-data-server<0.8.0,>=0.7.0 in /usr/local/lib/python3.10/dist-packages (from tensorboard>=2.2.0->pytorch-lightning==1.6.4) (0.7.2)\n",
      "Requirement already satisfied: werkzeug>=1.0.1 in /usr/local/lib/python3.10/dist-packages (from tensorboard>=2.2.0->pytorch-lightning==1.6.4) (3.0.3)\n",
      "Requirement already satisfied: filelock in /usr/local/lib/python3.10/dist-packages (from torch>=1.8.*->pytorch-lightning==1.6.4) (3.15.3)\n",
      "Requirement already satisfied: sympy in /usr/local/lib/python3.10/dist-packages (from torch>=1.8.*->pytorch-lightning==1.6.4) (1.12.1)\n",
      "Requirement already satisfied: networkx in /usr/local/lib/python3.10/dist-packages (from torch>=1.8.*->pytorch-lightning==1.6.4) (3.3)\n",
      "Requirement already satisfied: jinja2 in /usr/local/lib/python3.10/dist-packages (from torch>=1.8.*->pytorch-lightning==1.6.4) (3.1.4)\n",
      "Collecting nvidia-cuda-nvrtc-cu12==12.1.105 (from torch>=1.8.*->pytorch-lightning==1.6.4)\n",
      "  Using cached nvidia_cuda_nvrtc_cu12-12.1.105-py3-none-manylinux1_x86_64.whl (23.7 MB)\n",
      "Collecting nvidia-cuda-runtime-cu12==12.1.105 (from torch>=1.8.*->pytorch-lightning==1.6.4)\n",
      "  Using cached nvidia_cuda_runtime_cu12-12.1.105-py3-none-manylinux1_x86_64.whl (823 kB)\n",
      "Collecting nvidia-cuda-cupti-cu12==12.1.105 (from torch>=1.8.*->pytorch-lightning==1.6.4)\n",
      "  Using cached nvidia_cuda_cupti_cu12-12.1.105-py3-none-manylinux1_x86_64.whl (14.1 MB)\n",
      "Collecting nvidia-cudnn-cu12==8.9.2.26 (from torch>=1.8.*->pytorch-lightning==1.6.4)\n",
      "  Using cached nvidia_cudnn_cu12-8.9.2.26-py3-none-manylinux1_x86_64.whl (731.7 MB)\n",
      "Collecting nvidia-cublas-cu12==12.1.3.1 (from torch>=1.8.*->pytorch-lightning==1.6.4)\n",
      "  Using cached nvidia_cublas_cu12-12.1.3.1-py3-none-manylinux1_x86_64.whl (410.6 MB)\n",
      "Collecting nvidia-cufft-cu12==11.0.2.54 (from torch>=1.8.*->pytorch-lightning==1.6.4)\n",
      "  Using cached nvidia_cufft_cu12-11.0.2.54-py3-none-manylinux1_x86_64.whl (121.6 MB)\n",
      "Collecting nvidia-curand-cu12==10.3.2.106 (from torch>=1.8.*->pytorch-lightning==1.6.4)\n",
      "  Using cached nvidia_curand_cu12-10.3.2.106-py3-none-manylinux1_x86_64.whl (56.5 MB)\n",
      "Collecting nvidia-cusolver-cu12==11.4.5.107 (from torch>=1.8.*->pytorch-lightning==1.6.4)\n",
      "  Using cached nvidia_cusolver_cu12-11.4.5.107-py3-none-manylinux1_x86_64.whl (124.2 MB)\n",
      "Collecting nvidia-cusparse-cu12==12.1.0.106 (from torch>=1.8.*->pytorch-lightning==1.6.4)\n",
      "  Using cached nvidia_cusparse_cu12-12.1.0.106-py3-none-manylinux1_x86_64.whl (196.0 MB)\n",
      "Collecting nvidia-nccl-cu12==2.20.5 (from torch>=1.8.*->pytorch-lightning==1.6.4)\n",
      "  Using cached nvidia_nccl_cu12-2.20.5-py3-none-manylinux2014_x86_64.whl (176.2 MB)\n",
      "Collecting nvidia-nvtx-cu12==12.1.105 (from torch>=1.8.*->pytorch-lightning==1.6.4)\n",
      "  Using cached nvidia_nvtx_cu12-12.1.105-py3-none-manylinux1_x86_64.whl (99 kB)\n",
      "Requirement already satisfied: triton==2.3.0 in /usr/local/lib/python3.10/dist-packages (from torch>=1.8.*->pytorch-lightning==1.6.4) (2.3.0)\n",
      "Collecting nvidia-nvjitlink-cu12 (from nvidia-cusolver-cu12==11.4.5.107->torch>=1.8.*->pytorch-lightning==1.6.4)\n",
      "  Downloading nvidia_nvjitlink_cu12-12.5.40-py3-none-manylinux2014_x86_64.whl (21.3 MB)\n",
      "\u001b[2K     \u001b[90m━━━━━━━━━━━━━━━━━━━━━━━━━━━━━━━━━━━━━━━━\u001b[0m \u001b[32m21.3/21.3 MB\u001b[0m \u001b[31m32.4 MB/s\u001b[0m eta \u001b[36m0:00:00\u001b[0m\n",
      "\u001b[?25hCollecting lightning-utilities>=0.8.0 (from torchmetrics>=0.4.1->pytorch-lightning==1.6.4)\n",
      "  Downloading lightning_utilities-0.11.2-py3-none-any.whl (26 kB)\n",
      "Requirement already satisfied: aiosignal>=1.1.2 in /usr/local/lib/python3.10/dist-packages (from aiohttp!=4.0.0a0,!=4.0.0a1->fsspec[http]!=2021.06.0,>=2021.05.0->pytorch-lightning==1.6.4) (1.3.1)\n",
      "Requirement already satisfied: attrs>=17.3.0 in /usr/local/lib/python3.10/dist-packages (from aiohttp!=4.0.0a0,!=4.0.0a1->fsspec[http]!=2021.06.0,>=2021.05.0->pytorch-lightning==1.6.4) (23.2.0)\n",
      "Requirement already satisfied: frozenlist>=1.1.1 in /usr/local/lib/python3.10/dist-packages (from aiohttp!=4.0.0a0,!=4.0.0a1->fsspec[http]!=2021.06.0,>=2021.05.0->pytorch-lightning==1.6.4) (1.4.1)\n",
      "Requirement already satisfied: multidict<7.0,>=4.5 in /usr/local/lib/python3.10/dist-packages (from aiohttp!=4.0.0a0,!=4.0.0a1->fsspec[http]!=2021.06.0,>=2021.05.0->pytorch-lightning==1.6.4) (6.0.5)\n",
      "Requirement already satisfied: yarl<2.0,>=1.0 in /usr/local/lib/python3.10/dist-packages (from aiohttp!=4.0.0a0,!=4.0.0a1->fsspec[http]!=2021.06.0,>=2021.05.0->pytorch-lightning==1.6.4) (1.9.4)\n",
      "Requirement already satisfied: async-timeout<5.0,>=4.0 in /usr/local/lib/python3.10/dist-packages (from aiohttp!=4.0.0a0,!=4.0.0a1->fsspec[http]!=2021.06.0,>=2021.05.0->pytorch-lightning==1.6.4) (4.0.3)\n",
      "Requirement already satisfied: cachetools<6.0,>=2.0.0 in /usr/local/lib/python3.10/dist-packages (from google-auth<3,>=1.6.3->tensorboard>=2.2.0->pytorch-lightning==1.6.4) (5.3.3)\n",
      "Requirement already satisfied: pyasn1-modules>=0.2.1 in /usr/local/lib/python3.10/dist-packages (from google-auth<3,>=1.6.3->tensorboard>=2.2.0->pytorch-lightning==1.6.4) (0.4.0)\n",
      "Requirement already satisfied: rsa<5,>=3.1.4 in /usr/local/lib/python3.10/dist-packages (from google-auth<3,>=1.6.3->tensorboard>=2.2.0->pytorch-lightning==1.6.4) (4.9)\n",
      "Requirement already satisfied: requests-oauthlib>=0.7.0 in /usr/local/lib/python3.10/dist-packages (from google-auth-oauthlib<2,>=0.5->tensorboard>=2.2.0->pytorch-lightning==1.6.4) (1.3.1)\n",
      "Requirement already satisfied: charset-normalizer<4,>=2 in /usr/local/lib/python3.10/dist-packages (from requests->fsspec[http]!=2021.06.0,>=2021.05.0->pytorch-lightning==1.6.4) (3.3.2)\n",
      "Requirement already satisfied: idna<4,>=2.5 in /usr/local/lib/python3.10/dist-packages (from requests->fsspec[http]!=2021.06.0,>=2021.05.0->pytorch-lightning==1.6.4) (3.7)\n",
      "Requirement already satisfied: urllib3<3,>=1.21.1 in /usr/local/lib/python3.10/dist-packages (from requests->fsspec[http]!=2021.06.0,>=2021.05.0->pytorch-lightning==1.6.4) (2.0.7)\n",
      "Requirement already satisfied: certifi>=2017.4.17 in /usr/local/lib/python3.10/dist-packages (from requests->fsspec[http]!=2021.06.0,>=2021.05.0->pytorch-lightning==1.6.4) (2024.6.2)\n",
      "Requirement already satisfied: MarkupSafe>=2.1.1 in /usr/local/lib/python3.10/dist-packages (from werkzeug>=1.0.1->tensorboard>=2.2.0->pytorch-lightning==1.6.4) (2.1.5)\n",
      "Requirement already satisfied: mpmath<1.4.0,>=1.1.0 in /usr/local/lib/python3.10/dist-packages (from sympy->torch>=1.8.*->pytorch-lightning==1.6.4) (1.3.0)\n",
      "Requirement already satisfied: pyasn1<0.7.0,>=0.4.6 in /usr/local/lib/python3.10/dist-packages (from pyasn1-modules>=0.2.1->google-auth<3,>=1.6.3->tensorboard>=2.2.0->pytorch-lightning==1.6.4) (0.6.0)\n",
      "Requirement already satisfied: oauthlib>=3.0.0 in /usr/local/lib/python3.10/dist-packages (from requests-oauthlib>=0.7.0->google-auth-oauthlib<2,>=0.5->tensorboard>=2.2.0->pytorch-lightning==1.6.4) (3.2.2)\n",
      "Installing collected packages: pyDeprecate, protobuf, nvidia-nvtx-cu12, nvidia-nvjitlink-cu12, nvidia-nccl-cu12, nvidia-curand-cu12, nvidia-cufft-cu12, nvidia-cuda-runtime-cu12, nvidia-cuda-nvrtc-cu12, nvidia-cuda-cupti-cu12, nvidia-cublas-cu12, lightning-utilities, nvidia-cusparse-cu12, nvidia-cudnn-cu12, nvidia-cusolver-cu12, torchmetrics, pytorch-lightning\n",
      "  Attempting uninstall: protobuf\n",
      "    Found existing installation: protobuf 3.20.3\n",
      "    Uninstalling protobuf-3.20.3:\n",
      "      Successfully uninstalled protobuf-3.20.3\n"
     ]
    }
   ],
   "source": [
    "!pip install transformers==4.25.1\n",
    "!pip install pytorch-lightning==1.6.4\n",
    "!pip install timm==0.5.4"
   ]
  },
  {
   "cell_type": "markdown",
   "id": "30c07oVhvMKG",
   "metadata": {
    "id": "30c07oVhvMKG"
   },
   "source": [
    "#멀티모달 RAG"
   ]
  },
  {
   "cell_type": "markdown",
   "id": "4afba6c5",
   "metadata": {
    "id": "4afba6c5"
   },
   "source": [
    "## 패키지\n",
    "\n",
    "`unstructured`를 사용하기 위해서는 시스템에 `poppler`([설치 지침](https://pdf2image.readthedocs.io/en/latest/installation.html))와 `tesseract`([설치 지침](https://tesseract-ocr.github.io/tessdoc/Installation.html))가 필요합니다.\n",
    "\n",
    "[참고] `옵션 2`는 멀티모달 LLM을 답변 합성에 사용할 수 없는 경우(예: 비용 등)에 적합합니다.\n"
   ]
  },
  {
   "cell_type": "code",
   "execution_count": null,
   "id": "bLxqm8HzZ8tJ",
   "metadata": {
    "collapsed": true,
    "id": "bLxqm8HzZ8tJ",
    "jupyter": {
     "outputs_hidden": true
    }
   },
   "outputs": [],
   "source": [
    "# Install Requirements\n",
    "!apt-get -qq install poppler-utils tesseract-ocr\n",
    "# Upgrade Pillow to latest version\n",
    "%pip install -q --user --upgrade pillow\n",
    "# Install Python Packages\n",
    "%pip install -q unstructured[\"all-docs\"]==0.12.5\n",
    "# NOTE: you may also upgrade to the latest version with the command below,\n",
    "#       though a more recent version of unstructured will not have been tested with this notebook\n",
    "# %pip install -q --upgrade unstructured"
   ]
  },
  {
   "cell_type": "code",
   "execution_count": null,
   "id": "0778efcb",
   "metadata": {
    "collapsed": true,
    "id": "0778efcb",
    "jupyter": {
     "outputs_hidden": true
    }
   },
   "outputs": [],
   "source": [
    "! pip install -U langchain openai chromadb langchain-experimental"
   ]
  },
  {
   "cell_type": "code",
   "execution_count": null,
   "id": "LQzDHu_Yb7A1",
   "metadata": {
    "collapsed": true,
    "id": "LQzDHu_Yb7A1",
    "jupyter": {
     "outputs_hidden": true
    }
   },
   "outputs": [],
   "source": [
    "!pip install lxml matplotlib tiktoken langchain_openai"
   ]
  },
  {
   "cell_type": "markdown",
   "id": "78a5abbc",
   "metadata": {
    "id": "78a5abbc"
   },
   "source": [
    "\n",
    "많은 문서들은 텍스트와 이미지를 포함한 다양한 콘텐츠 유형의 혼합을 담고 있습니다.\n",
    "\n",
    "그러나 대부분의 RAG 애플리케이션에서 이미지에 담긴 정보는 손실됩니다.\n",
    "\n",
    "GPT-4V, GPT4o 와 같은 다중 모달 LLM의 등장으로, RAG에서 이미지를 활용하는 방법을 고려하는 것이 가치가 있습니다:\n",
    "\n",
    "`옵션 1:`\n",
    "\n",
    "- 다중 모달 임베딩(예: [CLIP](https://openai.com/research/clip))을 사용하여 이미지와 텍스트를 임베딩합니다.\n",
    "- 유사성 검색을 사용하여 둘 다 검색합니다.\n",
    "- 다중 모달 LLM에 원본 이미지와 텍스트 조각을 전달하여 답변을 합성합니다.\n",
    "\n",
    "`옵션 2:`\n",
    "\n",
    "- 다중 모달 LLM(예: GPT-4V, GPT4o, [LLaVA](https://llava.hliu.cc/), [FUYU-8b](https://www.adept.ai/blog/fuyu-8b))을 사용하여 이미지에서 텍스트 요약을 생성합니다.\n",
    "- 텍스트를 임베딩하고 검색합니다.\n",
    "- LLM에 텍스트 조각을 전달하여 답변을 합성합니다.\n",
    "\n",
    "`옵션 3`\n",
    "\n",
    "- 다중 모달 LLM(예: GPT-4V, GPT4o, [LLaVA](https://llava.hliu.cc/), [FUYU-8b](https://www.adept.ai/blog/fuyu-8b))을 사용하여 이미지에서 텍스트 요약을 생성합니다.\n",
    "- 원본 이미지에 대한 참조와 함께 이미지 요약을 임베딩하고 검색합니다.\n",
    "- 다중 모달 LLM에 원본 이미지와 텍스트 조각을 전달하여 답변을 합성합니다.\n",
    "\n",
    "![capture-20240518-164005.png](https://blog.langchain.dev/content/images/size/w1600/2023/10/image-22.png)\n",
    "\n"
   ]
  },
  {
   "cell_type": "markdown",
   "id": "ngeZUoWPFZ-0",
   "metadata": {
    "id": "ngeZUoWPFZ-0",
    "jp-MarkdownHeadingCollapsed": true
   },
   "source": [
    "## 데이터\n",
    "- 삼성전자 경영설명회 2024 1분기 보고서\n",
    "- 출처 : https://images.samsung.com/kdp/ir/events/2024/2024_1Q_conference_kor.pdf\n"
   ]
  },
  {
   "cell_type": "code",
   "execution_count": null,
   "id": "Xw7dfPGDFa6y",
   "metadata": {
    "colab": {
     "base_uri": "https://localhost:8080/"
    },
    "id": "Xw7dfPGDFa6y",
    "outputId": "aa748e55-6cad-4f45-e00a-e582d9374c94"
   },
   "outputs": [
    {
     "name": "stdout",
     "output_type": "stream",
     "text": [
      "File downloaded and saved to /content/2024_1Q_conference_kor.pdf\n"
     ]
    }
   ],
   "source": [
    "import requests\n",
    "\n",
    "# PDF 파일 URL\n",
    "url = 'https://images.samsung.com/kdp/ir/events/2024/2024_1Q_conference_kor.pdf'\n",
    "\n",
    "# 파일 경로\n",
    "file_path = '/content/2024_1Q_conference_kor.pdf'\n",
    "\n",
    "# PDF 파일 다운로드\n",
    "response = requests.get(url)\n",
    "with open(file_path, 'wb') as f:\n",
    "    f.write(response.content)\n",
    "\n",
    "print(f'File downloaded and saved to {file_path}')\n"
   ]
  },
  {
   "cell_type": "markdown",
   "id": "3420a0c1",
   "metadata": {
    "id": "3420a0c1"
   },
   "source": [
    "## 데이터 로딩\n",
    "\n",
    "### PDF 텍스트와 이미지 분할\n",
    "\n",
    "[Unstructured](https://unstructured-io.github.io/unstructured/introduction.html#key-concepts)에서 제공하는 `partition_pdf`를 사용하여 텍스트와 이미지를 추출할 수 있습니다.\n",
    "\n",
    "이미지를 추출하기 위해 다음을 사용합니다\n",
    "\n",
    "`extract_images_in_pdf=True`\n",
    "\n",
    "텍스트만 처리하려는 경우.\n",
    "\n",
    "`extract_images_in_pdf=False`\n"
   ]
  },
  {
   "cell_type": "code",
   "execution_count": 1,
   "id": "3ef44e3d",
   "metadata": {
    "id": "3ef44e3d"
   },
   "outputs": [],
   "source": [
    "# 파일 경로\n",
    "fpath = \"/home/yejinhand/project/UDOP_RAG/\"\n",
    "fname = \"/home/yejinhand/project/UDOP_RAG/llama2-3.pdf\""
   ]
  },
  {
   "cell_type": "code",
   "execution_count": 2,
   "id": "6154cf00",
   "metadata": {
    "colab": {
     "base_uri": "https://localhost:8080/"
    },
    "id": "6154cf00",
    "outputId": "d6ab99bf-95e1-4a90-f132-e9c3f7b851d4"
   },
   "outputs": [
    {
     "name": "stderr",
     "output_type": "stream",
     "text": [
      "2024-06-25 16:27:03.673462: I tensorflow/core/platform/cpu_feature_guard.cc:210] This TensorFlow binary is optimized to use available CPU instructions in performance-critical operations.\n",
      "To enable the following instructions: AVX2 FMA, in other operations, rebuild TensorFlow with the appropriate compiler flags.\n",
      "2024-06-25 16:27:16.194200: W tensorflow/compiler/tf2tensorrt/utils/py_utils.cc:38] TF-TRT Warning: Could not find TensorRT\n",
      "Some weights of the model checkpoint at microsoft/table-transformer-structure-recognition were not used when initializing TableTransformerForObjectDetection: ['model.backbone.conv_encoder.model.layer2.0.downsample.1.num_batches_tracked', 'model.backbone.conv_encoder.model.layer3.0.downsample.1.num_batches_tracked', 'model.backbone.conv_encoder.model.layer4.0.downsample.1.num_batches_tracked']\n",
      "- This IS expected if you are initializing TableTransformerForObjectDetection from the checkpoint of a model trained on another task or with another architecture (e.g. initializing a BertForSequenceClassification model from a BertForPreTraining model).\n",
      "- This IS NOT expected if you are initializing TableTransformerForObjectDetection from the checkpoint of a model that you expect to be exactly identical (initializing a BertForSequenceClassification model from a BertForSequenceClassification model).\n"
     ]
    },
    {
     "ename": "TypeError",
     "evalue": "UnstructuredTableTransformerModel.predict() got an unexpected keyword argument 'result_format'",
     "output_type": "error",
     "traceback": [
      "\u001b[0;31m---------------------------------------------------------------------------\u001b[0m",
      "\u001b[0;31mTypeError\u001b[0m                                 Traceback (most recent call last)",
      "Cell \u001b[0;32mIn[2], line 46\u001b[0m\n\u001b[1;32m     42\u001b[0m     \u001b[38;5;28;01mreturn\u001b[39;00m texts, tables\n\u001b[1;32m     45\u001b[0m \u001b[38;5;66;03m# 요소 추출\u001b[39;00m\n\u001b[0;32m---> 46\u001b[0m raw_pdf_elements \u001b[38;5;241m=\u001b[39m \u001b[43mextract_pdf_elements\u001b[49m\u001b[43m(\u001b[49m\u001b[43mfpath\u001b[49m\u001b[43m,\u001b[49m\u001b[43m \u001b[49m\u001b[43mfname\u001b[49m\u001b[43m)\u001b[49m\n\u001b[1;32m     48\u001b[0m \u001b[38;5;66;03m# 텍스트, 테이블 추출\u001b[39;00m\n\u001b[1;32m     49\u001b[0m texts, tables \u001b[38;5;241m=\u001b[39m categorize_elements(raw_pdf_elements)\n",
      "Cell \u001b[0;32mIn[2], line 15\u001b[0m, in \u001b[0;36mextract_pdf_elements\u001b[0;34m(path, fname)\u001b[0m\n\u001b[1;32m      9\u001b[0m \u001b[38;5;28;01mdef\u001b[39;00m \u001b[38;5;21mextract_pdf_elements\u001b[39m(path, fname):\n\u001b[1;32m     10\u001b[0m \u001b[38;5;250m    \u001b[39m\u001b[38;5;124;03m\"\"\"\u001b[39;00m\n\u001b[1;32m     11\u001b[0m \u001b[38;5;124;03m    PDF 파일에서 이미지, 테이블, 그리고 텍스트 조각을 추출합니다.\u001b[39;00m\n\u001b[1;32m     12\u001b[0m \u001b[38;5;124;03m    path: 이미지(.jpg)를 저장할 파일 경로\u001b[39;00m\n\u001b[1;32m     13\u001b[0m \u001b[38;5;124;03m    fname: 파일 이름\u001b[39;00m\n\u001b[1;32m     14\u001b[0m \u001b[38;5;124;03m    \"\"\"\u001b[39;00m\n\u001b[0;32m---> 15\u001b[0m     \u001b[38;5;28;01mreturn\u001b[39;00m \u001b[43mpartition_pdf\u001b[49m\u001b[43m(\u001b[49m\n\u001b[1;32m     16\u001b[0m \u001b[43m        \u001b[49m\u001b[43mfilename\u001b[49m\u001b[38;5;241;43m=\u001b[39;49m\u001b[43mos\u001b[49m\u001b[38;5;241;43m.\u001b[39;49m\u001b[43mpath\u001b[49m\u001b[38;5;241;43m.\u001b[39;49m\u001b[43mjoin\u001b[49m\u001b[43m(\u001b[49m\u001b[43mpath\u001b[49m\u001b[43m,\u001b[49m\u001b[43m \u001b[49m\u001b[43mfname\u001b[49m\u001b[43m)\u001b[49m\u001b[43m,\u001b[49m\n\u001b[1;32m     17\u001b[0m \u001b[43m        \u001b[49m\u001b[43mextract_images_in_pdf\u001b[49m\u001b[38;5;241;43m=\u001b[39;49m\u001b[38;5;28;43;01mTrue\u001b[39;49;00m\u001b[43m,\u001b[49m\u001b[43m  \u001b[49m\u001b[38;5;66;43;03m# PDF 내 이미지 추출 활성화\u001b[39;49;00m\n\u001b[1;32m     18\u001b[0m \u001b[43m        \u001b[49m\u001b[43minfer_table_structure\u001b[49m\u001b[38;5;241;43m=\u001b[39;49m\u001b[38;5;28;43;01mTrue\u001b[39;49;00m\u001b[43m,\u001b[49m\u001b[43m  \u001b[49m\u001b[38;5;66;43;03m# 테이블 구조 추론 활성화\u001b[39;49;00m\n\u001b[1;32m     19\u001b[0m \u001b[43m        \u001b[49m\u001b[43mchunking_strategy\u001b[49m\u001b[38;5;241;43m=\u001b[39;49m\u001b[38;5;124;43m\"\u001b[39;49m\u001b[38;5;124;43mby_title\u001b[39;49m\u001b[38;5;124;43m\"\u001b[39;49m\u001b[43m,\u001b[49m\u001b[43m  \u001b[49m\u001b[38;5;66;43;03m# 제목별로 텍스트 조각화\u001b[39;49;00m\n\u001b[1;32m     20\u001b[0m \u001b[43m        \u001b[49m\u001b[43mmax_characters\u001b[49m\u001b[38;5;241;43m=\u001b[39;49m\u001b[38;5;241;43m4000\u001b[39;49m\u001b[43m,\u001b[49m\u001b[43m  \u001b[49m\u001b[38;5;66;43;03m# 최대 문자 수\u001b[39;49;00m\n\u001b[1;32m     21\u001b[0m \u001b[43m        \u001b[49m\u001b[43mnew_after_n_chars\u001b[49m\u001b[38;5;241;43m=\u001b[39;49m\u001b[38;5;241;43m3800\u001b[39;49m\u001b[43m,\u001b[49m\u001b[43m  \u001b[49m\u001b[38;5;66;43;03m# 이 문자 수 이후에 새로운 조각 생성\u001b[39;49;00m\n\u001b[1;32m     22\u001b[0m \u001b[43m        \u001b[49m\u001b[43mcombine_text_under_n_chars\u001b[49m\u001b[38;5;241;43m=\u001b[39;49m\u001b[38;5;241;43m2000\u001b[39;49m\u001b[43m,\u001b[49m\u001b[43m  \u001b[49m\u001b[38;5;66;43;03m# 이 문자 수 이하의 텍스트는 결합\u001b[39;49;00m\n\u001b[1;32m     23\u001b[0m \u001b[43m        \u001b[49m\u001b[43mimage_output_dir_path\u001b[49m\u001b[38;5;241;43m=\u001b[39;49m\u001b[43mpath\u001b[49m\u001b[43m,\u001b[49m\u001b[43m  \u001b[49m\u001b[38;5;66;43;03m# 이미지 출력 디렉토리 경로\u001b[39;49;00m\n\u001b[1;32m     24\u001b[0m \u001b[43m    \u001b[49m\u001b[43m)\u001b[49m\n",
      "File \u001b[0;32m~/miniconda3/envs/udop_rag/lib/python3.10/site-packages/unstructured/documents/elements.py:593\u001b[0m, in \u001b[0;36mprocess_metadata.<locals>.decorator.<locals>.wrapper\u001b[0;34m(*args, **kwargs)\u001b[0m\n\u001b[1;32m    591\u001b[0m \u001b[38;5;129m@functools\u001b[39m\u001b[38;5;241m.\u001b[39mwraps(func)\n\u001b[1;32m    592\u001b[0m \u001b[38;5;28;01mdef\u001b[39;00m \u001b[38;5;21mwrapper\u001b[39m(\u001b[38;5;241m*\u001b[39margs: _P\u001b[38;5;241m.\u001b[39margs, \u001b[38;5;241m*\u001b[39m\u001b[38;5;241m*\u001b[39mkwargs: _P\u001b[38;5;241m.\u001b[39mkwargs) \u001b[38;5;241m-\u001b[39m\u001b[38;5;241m>\u001b[39m \u001b[38;5;28mlist\u001b[39m[Element]:\n\u001b[0;32m--> 593\u001b[0m     elements \u001b[38;5;241m=\u001b[39m \u001b[43mfunc\u001b[49m\u001b[43m(\u001b[49m\u001b[38;5;241;43m*\u001b[39;49m\u001b[43margs\u001b[49m\u001b[43m,\u001b[49m\u001b[43m \u001b[49m\u001b[38;5;241;43m*\u001b[39;49m\u001b[38;5;241;43m*\u001b[39;49m\u001b[43mkwargs\u001b[49m\u001b[43m)\u001b[49m\n\u001b[1;32m    594\u001b[0m     call_args \u001b[38;5;241m=\u001b[39m get_call_args_applying_defaults(func, \u001b[38;5;241m*\u001b[39margs, \u001b[38;5;241m*\u001b[39m\u001b[38;5;241m*\u001b[39mkwargs)\n\u001b[1;32m    596\u001b[0m     regex_metadata: \u001b[38;5;28mdict\u001b[39m[\u001b[38;5;124m\"\u001b[39m\u001b[38;5;124mstr\u001b[39m\u001b[38;5;124m\"\u001b[39m, \u001b[38;5;124m\"\u001b[39m\u001b[38;5;124mstr\u001b[39m\u001b[38;5;124m\"\u001b[39m] \u001b[38;5;241m=\u001b[39m call_args\u001b[38;5;241m.\u001b[39mget(\u001b[38;5;124m\"\u001b[39m\u001b[38;5;124mregex_metadata\u001b[39m\u001b[38;5;124m\"\u001b[39m, {})\n",
      "File \u001b[0;32m~/miniconda3/envs/udop_rag/lib/python3.10/site-packages/unstructured/file_utils/filetype.py:626\u001b[0m, in \u001b[0;36madd_filetype.<locals>.decorator.<locals>.wrapper\u001b[0;34m(*args, **kwargs)\u001b[0m\n\u001b[1;32m    624\u001b[0m \u001b[38;5;129m@functools\u001b[39m\u001b[38;5;241m.\u001b[39mwraps(func)\n\u001b[1;32m    625\u001b[0m \u001b[38;5;28;01mdef\u001b[39;00m \u001b[38;5;21mwrapper\u001b[39m(\u001b[38;5;241m*\u001b[39margs: _P\u001b[38;5;241m.\u001b[39margs, \u001b[38;5;241m*\u001b[39m\u001b[38;5;241m*\u001b[39mkwargs: _P\u001b[38;5;241m.\u001b[39mkwargs) \u001b[38;5;241m-\u001b[39m\u001b[38;5;241m>\u001b[39m List[Element]:\n\u001b[0;32m--> 626\u001b[0m     elements \u001b[38;5;241m=\u001b[39m \u001b[43mfunc\u001b[49m\u001b[43m(\u001b[49m\u001b[38;5;241;43m*\u001b[39;49m\u001b[43margs\u001b[49m\u001b[43m,\u001b[49m\u001b[43m \u001b[49m\u001b[38;5;241;43m*\u001b[39;49m\u001b[38;5;241;43m*\u001b[39;49m\u001b[43mkwargs\u001b[49m\u001b[43m)\u001b[49m\n\u001b[1;32m    627\u001b[0m     params \u001b[38;5;241m=\u001b[39m get_call_args_applying_defaults(func, \u001b[38;5;241m*\u001b[39margs, \u001b[38;5;241m*\u001b[39m\u001b[38;5;241m*\u001b[39mkwargs)\n\u001b[1;32m    628\u001b[0m     include_metadata \u001b[38;5;241m=\u001b[39m params\u001b[38;5;241m.\u001b[39mget(\u001b[38;5;124m\"\u001b[39m\u001b[38;5;124minclude_metadata\u001b[39m\u001b[38;5;124m\"\u001b[39m, \u001b[38;5;28;01mTrue\u001b[39;00m)\n",
      "File \u001b[0;32m~/miniconda3/envs/udop_rag/lib/python3.10/site-packages/unstructured/file_utils/filetype.py:582\u001b[0m, in \u001b[0;36madd_metadata.<locals>.wrapper\u001b[0;34m(*args, **kwargs)\u001b[0m\n\u001b[1;32m    580\u001b[0m \u001b[38;5;129m@functools\u001b[39m\u001b[38;5;241m.\u001b[39mwraps(func)\n\u001b[1;32m    581\u001b[0m \u001b[38;5;28;01mdef\u001b[39;00m \u001b[38;5;21mwrapper\u001b[39m(\u001b[38;5;241m*\u001b[39margs: _P\u001b[38;5;241m.\u001b[39margs, \u001b[38;5;241m*\u001b[39m\u001b[38;5;241m*\u001b[39mkwargs: _P\u001b[38;5;241m.\u001b[39mkwargs) \u001b[38;5;241m-\u001b[39m\u001b[38;5;241m>\u001b[39m List[Element]:\n\u001b[0;32m--> 582\u001b[0m     elements \u001b[38;5;241m=\u001b[39m \u001b[43mfunc\u001b[49m\u001b[43m(\u001b[49m\u001b[38;5;241;43m*\u001b[39;49m\u001b[43margs\u001b[49m\u001b[43m,\u001b[49m\u001b[43m \u001b[49m\u001b[38;5;241;43m*\u001b[39;49m\u001b[38;5;241;43m*\u001b[39;49m\u001b[43mkwargs\u001b[49m\u001b[43m)\u001b[49m\n\u001b[1;32m    583\u001b[0m     call_args \u001b[38;5;241m=\u001b[39m get_call_args_applying_defaults(func, \u001b[38;5;241m*\u001b[39margs, \u001b[38;5;241m*\u001b[39m\u001b[38;5;241m*\u001b[39mkwargs)\n\u001b[1;32m    584\u001b[0m     include_metadata \u001b[38;5;241m=\u001b[39m call_args\u001b[38;5;241m.\u001b[39mget(\u001b[38;5;124m\"\u001b[39m\u001b[38;5;124minclude_metadata\u001b[39m\u001b[38;5;124m\"\u001b[39m, \u001b[38;5;28;01mTrue\u001b[39;00m)\n",
      "File \u001b[0;32m~/miniconda3/envs/udop_rag/lib/python3.10/site-packages/unstructured/chunking/dispatch.py:74\u001b[0m, in \u001b[0;36madd_chunking_strategy.<locals>.wrapper\u001b[0;34m(*args, **kwargs)\u001b[0m\n\u001b[1;32m     71\u001b[0m \u001b[38;5;250m\u001b[39m\u001b[38;5;124;03m\"\"\"The decorated function is replaced with this one.\"\"\"\u001b[39;00m\n\u001b[1;32m     73\u001b[0m \u001b[38;5;66;03m# -- call the partitioning function to get the elements --\u001b[39;00m\n\u001b[0;32m---> 74\u001b[0m elements \u001b[38;5;241m=\u001b[39m \u001b[43mfunc\u001b[49m\u001b[43m(\u001b[49m\u001b[38;5;241;43m*\u001b[39;49m\u001b[43margs\u001b[49m\u001b[43m,\u001b[49m\u001b[43m \u001b[49m\u001b[38;5;241;43m*\u001b[39;49m\u001b[38;5;241;43m*\u001b[39;49m\u001b[43mkwargs\u001b[49m\u001b[43m)\u001b[49m\n\u001b[1;32m     76\u001b[0m \u001b[38;5;66;03m# -- look for a chunking-strategy argument --\u001b[39;00m\n\u001b[1;32m     77\u001b[0m call_args \u001b[38;5;241m=\u001b[39m get_call_args_applying_defaults(func, \u001b[38;5;241m*\u001b[39margs, \u001b[38;5;241m*\u001b[39m\u001b[38;5;241m*\u001b[39mkwargs)\n",
      "File \u001b[0;32m~/miniconda3/envs/udop_rag/lib/python3.10/site-packages/unstructured/partition/pdf.py:192\u001b[0m, in \u001b[0;36mpartition_pdf\u001b[0;34m(filename, file, include_page_breaks, strategy, infer_table_structure, ocr_languages, languages, include_metadata, metadata_filename, metadata_last_modified, chunking_strategy, hi_res_model_name, extract_images_in_pdf, extract_image_block_types, extract_image_block_output_dir, extract_image_block_to_payload, date_from_file_object, starting_page_number, extract_forms, form_extraction_skip_tables, **kwargs)\u001b[0m\n\u001b[1;32m    188\u001b[0m exactly_one(filename\u001b[38;5;241m=\u001b[39mfilename, file\u001b[38;5;241m=\u001b[39mfile)\n\u001b[1;32m    190\u001b[0m languages \u001b[38;5;241m=\u001b[39m check_language_args(languages \u001b[38;5;129;01mor\u001b[39;00m [], ocr_languages) \u001b[38;5;129;01mor\u001b[39;00m [\u001b[38;5;124m\"\u001b[39m\u001b[38;5;124meng\u001b[39m\u001b[38;5;124m\"\u001b[39m]\n\u001b[0;32m--> 192\u001b[0m \u001b[38;5;28;01mreturn\u001b[39;00m \u001b[43mpartition_pdf_or_image\u001b[49m\u001b[43m(\u001b[49m\n\u001b[1;32m    193\u001b[0m \u001b[43m    \u001b[49m\u001b[43mfilename\u001b[49m\u001b[38;5;241;43m=\u001b[39;49m\u001b[43mfilename\u001b[49m\u001b[43m,\u001b[49m\n\u001b[1;32m    194\u001b[0m \u001b[43m    \u001b[49m\u001b[43mfile\u001b[49m\u001b[38;5;241;43m=\u001b[39;49m\u001b[43mfile\u001b[49m\u001b[43m,\u001b[49m\n\u001b[1;32m    195\u001b[0m \u001b[43m    \u001b[49m\u001b[43minclude_page_breaks\u001b[49m\u001b[38;5;241;43m=\u001b[39;49m\u001b[43minclude_page_breaks\u001b[49m\u001b[43m,\u001b[49m\n\u001b[1;32m    196\u001b[0m \u001b[43m    \u001b[49m\u001b[43mstrategy\u001b[49m\u001b[38;5;241;43m=\u001b[39;49m\u001b[43mstrategy\u001b[49m\u001b[43m,\u001b[49m\n\u001b[1;32m    197\u001b[0m \u001b[43m    \u001b[49m\u001b[43minfer_table_structure\u001b[49m\u001b[38;5;241;43m=\u001b[39;49m\u001b[43minfer_table_structure\u001b[49m\u001b[43m,\u001b[49m\n\u001b[1;32m    198\u001b[0m \u001b[43m    \u001b[49m\u001b[43mlanguages\u001b[49m\u001b[38;5;241;43m=\u001b[39;49m\u001b[43mlanguages\u001b[49m\u001b[43m,\u001b[49m\n\u001b[1;32m    199\u001b[0m \u001b[43m    \u001b[49m\u001b[43mmetadata_last_modified\u001b[49m\u001b[38;5;241;43m=\u001b[39;49m\u001b[43mmetadata_last_modified\u001b[49m\u001b[43m,\u001b[49m\n\u001b[1;32m    200\u001b[0m \u001b[43m    \u001b[49m\u001b[43mhi_res_model_name\u001b[49m\u001b[38;5;241;43m=\u001b[39;49m\u001b[43mhi_res_model_name\u001b[49m\u001b[43m,\u001b[49m\n\u001b[1;32m    201\u001b[0m \u001b[43m    \u001b[49m\u001b[43mextract_images_in_pdf\u001b[49m\u001b[38;5;241;43m=\u001b[39;49m\u001b[43mextract_images_in_pdf\u001b[49m\u001b[43m,\u001b[49m\n\u001b[1;32m    202\u001b[0m \u001b[43m    \u001b[49m\u001b[43mextract_image_block_types\u001b[49m\u001b[38;5;241;43m=\u001b[39;49m\u001b[43mextract_image_block_types\u001b[49m\u001b[43m,\u001b[49m\n\u001b[1;32m    203\u001b[0m \u001b[43m    \u001b[49m\u001b[43mextract_image_block_output_dir\u001b[49m\u001b[38;5;241;43m=\u001b[39;49m\u001b[43mextract_image_block_output_dir\u001b[49m\u001b[43m,\u001b[49m\n\u001b[1;32m    204\u001b[0m \u001b[43m    \u001b[49m\u001b[43mextract_image_block_to_payload\u001b[49m\u001b[38;5;241;43m=\u001b[39;49m\u001b[43mextract_image_block_to_payload\u001b[49m\u001b[43m,\u001b[49m\n\u001b[1;32m    205\u001b[0m \u001b[43m    \u001b[49m\u001b[43mdate_from_file_object\u001b[49m\u001b[38;5;241;43m=\u001b[39;49m\u001b[43mdate_from_file_object\u001b[49m\u001b[43m,\u001b[49m\n\u001b[1;32m    206\u001b[0m \u001b[43m    \u001b[49m\u001b[43mstarting_page_number\u001b[49m\u001b[38;5;241;43m=\u001b[39;49m\u001b[43mstarting_page_number\u001b[49m\u001b[43m,\u001b[49m\n\u001b[1;32m    207\u001b[0m \u001b[43m    \u001b[49m\u001b[43mextract_forms\u001b[49m\u001b[38;5;241;43m=\u001b[39;49m\u001b[43mextract_forms\u001b[49m\u001b[43m,\u001b[49m\n\u001b[1;32m    208\u001b[0m \u001b[43m    \u001b[49m\u001b[43mform_extraction_skip_tables\u001b[49m\u001b[38;5;241;43m=\u001b[39;49m\u001b[43mform_extraction_skip_tables\u001b[49m\u001b[43m,\u001b[49m\n\u001b[1;32m    209\u001b[0m \u001b[43m    \u001b[49m\u001b[38;5;241;43m*\u001b[39;49m\u001b[38;5;241;43m*\u001b[39;49m\u001b[43mkwargs\u001b[49m\u001b[43m,\u001b[49m\n\u001b[1;32m    210\u001b[0m \u001b[43m\u001b[49m\u001b[43m)\u001b[49m\n",
      "File \u001b[0;32m~/miniconda3/envs/udop_rag/lib/python3.10/site-packages/unstructured/partition/pdf.py:288\u001b[0m, in \u001b[0;36mpartition_pdf_or_image\u001b[0;34m(filename, file, is_image, include_page_breaks, strategy, infer_table_structure, ocr_languages, languages, metadata_last_modified, hi_res_model_name, extract_images_in_pdf, extract_image_block_types, extract_image_block_output_dir, extract_image_block_to_payload, date_from_file_object, starting_page_number, extract_forms, form_extraction_skip_tables, **kwargs)\u001b[0m\n\u001b[1;32m    286\u001b[0m     \u001b[38;5;28;01mwith\u001b[39;00m warnings\u001b[38;5;241m.\u001b[39mcatch_warnings():\n\u001b[1;32m    287\u001b[0m         warnings\u001b[38;5;241m.\u001b[39msimplefilter(\u001b[38;5;124m\"\u001b[39m\u001b[38;5;124mignore\u001b[39m\u001b[38;5;124m\"\u001b[39m)\n\u001b[0;32m--> 288\u001b[0m         elements \u001b[38;5;241m=\u001b[39m \u001b[43m_partition_pdf_or_image_local\u001b[49m\u001b[43m(\u001b[49m\n\u001b[1;32m    289\u001b[0m \u001b[43m            \u001b[49m\u001b[43mfilename\u001b[49m\u001b[38;5;241;43m=\u001b[39;49m\u001b[43mfilename\u001b[49m\u001b[43m,\u001b[49m\n\u001b[1;32m    290\u001b[0m \u001b[43m            \u001b[49m\u001b[43mfile\u001b[49m\u001b[38;5;241;43m=\u001b[39;49m\u001b[43mspooled_to_bytes_io_if_needed\u001b[49m\u001b[43m(\u001b[49m\u001b[43mfile\u001b[49m\u001b[43m)\u001b[49m\u001b[43m,\u001b[49m\n\u001b[1;32m    291\u001b[0m \u001b[43m            \u001b[49m\u001b[43mis_image\u001b[49m\u001b[38;5;241;43m=\u001b[39;49m\u001b[43mis_image\u001b[49m\u001b[43m,\u001b[49m\n\u001b[1;32m    292\u001b[0m \u001b[43m            \u001b[49m\u001b[43minfer_table_structure\u001b[49m\u001b[38;5;241;43m=\u001b[39;49m\u001b[43minfer_table_structure\u001b[49m\u001b[43m,\u001b[49m\n\u001b[1;32m    293\u001b[0m \u001b[43m            \u001b[49m\u001b[43minclude_page_breaks\u001b[49m\u001b[38;5;241;43m=\u001b[39;49m\u001b[43minclude_page_breaks\u001b[49m\u001b[43m,\u001b[49m\n\u001b[1;32m    294\u001b[0m \u001b[43m            \u001b[49m\u001b[43mlanguages\u001b[49m\u001b[38;5;241;43m=\u001b[39;49m\u001b[43mlanguages\u001b[49m\u001b[43m,\u001b[49m\n\u001b[1;32m    295\u001b[0m \u001b[43m            \u001b[49m\u001b[43mmetadata_last_modified\u001b[49m\u001b[38;5;241;43m=\u001b[39;49m\u001b[43mmetadata_last_modified\u001b[49m\u001b[43m \u001b[49m\u001b[38;5;129;43;01mor\u001b[39;49;00m\u001b[43m \u001b[49m\u001b[43mlast_modification_date\u001b[49m\u001b[43m,\u001b[49m\n\u001b[1;32m    296\u001b[0m \u001b[43m            \u001b[49m\u001b[43mhi_res_model_name\u001b[49m\u001b[38;5;241;43m=\u001b[39;49m\u001b[43mhi_res_model_name\u001b[49m\u001b[43m,\u001b[49m\n\u001b[1;32m    297\u001b[0m \u001b[43m            \u001b[49m\u001b[43mpdf_text_extractable\u001b[49m\u001b[38;5;241;43m=\u001b[39;49m\u001b[43mpdf_text_extractable\u001b[49m\u001b[43m,\u001b[49m\n\u001b[1;32m    298\u001b[0m \u001b[43m            \u001b[49m\u001b[43mextract_images_in_pdf\u001b[49m\u001b[38;5;241;43m=\u001b[39;49m\u001b[43mextract_images_in_pdf\u001b[49m\u001b[43m,\u001b[49m\n\u001b[1;32m    299\u001b[0m \u001b[43m            \u001b[49m\u001b[43mextract_image_block_types\u001b[49m\u001b[38;5;241;43m=\u001b[39;49m\u001b[43mextract_image_block_types\u001b[49m\u001b[43m,\u001b[49m\n\u001b[1;32m    300\u001b[0m \u001b[43m            \u001b[49m\u001b[43mextract_image_block_output_dir\u001b[49m\u001b[38;5;241;43m=\u001b[39;49m\u001b[43mextract_image_block_output_dir\u001b[49m\u001b[43m,\u001b[49m\n\u001b[1;32m    301\u001b[0m \u001b[43m            \u001b[49m\u001b[43mextract_image_block_to_payload\u001b[49m\u001b[38;5;241;43m=\u001b[39;49m\u001b[43mextract_image_block_to_payload\u001b[49m\u001b[43m,\u001b[49m\n\u001b[1;32m    302\u001b[0m \u001b[43m            \u001b[49m\u001b[43mstarting_page_number\u001b[49m\u001b[38;5;241;43m=\u001b[39;49m\u001b[43mstarting_page_number\u001b[49m\u001b[43m,\u001b[49m\n\u001b[1;32m    303\u001b[0m \u001b[43m            \u001b[49m\u001b[43mextract_forms\u001b[49m\u001b[38;5;241;43m=\u001b[39;49m\u001b[43mextract_forms\u001b[49m\u001b[43m,\u001b[49m\n\u001b[1;32m    304\u001b[0m \u001b[43m            \u001b[49m\u001b[43mform_extraction_skip_tables\u001b[49m\u001b[38;5;241;43m=\u001b[39;49m\u001b[43mform_extraction_skip_tables\u001b[49m\u001b[43m,\u001b[49m\n\u001b[1;32m    305\u001b[0m \u001b[43m            \u001b[49m\u001b[38;5;241;43m*\u001b[39;49m\u001b[38;5;241;43m*\u001b[39;49m\u001b[43mkwargs\u001b[49m\u001b[43m,\u001b[49m\n\u001b[1;32m    306\u001b[0m \u001b[43m        \u001b[49m\u001b[43m)\u001b[49m\n\u001b[1;32m    307\u001b[0m         out_elements \u001b[38;5;241m=\u001b[39m _process_uncategorized_text_elements(elements)\n\u001b[1;32m    309\u001b[0m \u001b[38;5;28;01melif\u001b[39;00m strategy \u001b[38;5;241m==\u001b[39m PartitionStrategy\u001b[38;5;241m.\u001b[39mFAST:\n",
      "File \u001b[0;32m~/miniconda3/envs/udop_rag/lib/python3.10/site-packages/unstructured/utils.py:249\u001b[0m, in \u001b[0;36mrequires_dependencies.<locals>.decorator.<locals>.wrapper\u001b[0;34m(*args, **kwargs)\u001b[0m\n\u001b[1;32m    246\u001b[0m \u001b[38;5;129m@wraps\u001b[39m(func)\n\u001b[1;32m    247\u001b[0m \u001b[38;5;28;01mdef\u001b[39;00m \u001b[38;5;21mwrapper\u001b[39m(\u001b[38;5;241m*\u001b[39margs: _P\u001b[38;5;241m.\u001b[39margs, \u001b[38;5;241m*\u001b[39m\u001b[38;5;241m*\u001b[39mkwargs: _P\u001b[38;5;241m.\u001b[39mkwargs):\n\u001b[1;32m    248\u001b[0m     run_check()\n\u001b[0;32m--> 249\u001b[0m     \u001b[38;5;28;01mreturn\u001b[39;00m \u001b[43mfunc\u001b[49m\u001b[43m(\u001b[49m\u001b[38;5;241;43m*\u001b[39;49m\u001b[43margs\u001b[49m\u001b[43m,\u001b[49m\u001b[43m \u001b[49m\u001b[38;5;241;43m*\u001b[39;49m\u001b[38;5;241;43m*\u001b[39;49m\u001b[43mkwargs\u001b[49m\u001b[43m)\u001b[49m\n",
      "File \u001b[0;32m~/miniconda3/envs/udop_rag/lib/python3.10/site-packages/unstructured/partition/pdf.py:580\u001b[0m, in \u001b[0;36m_partition_pdf_or_image_local\u001b[0;34m(filename, file, is_image, infer_table_structure, include_page_breaks, languages, ocr_mode, model_name, hi_res_model_name, pdf_image_dpi, metadata_last_modified, pdf_text_extractable, extract_images_in_pdf, extract_image_block_types, extract_image_block_output_dir, extract_image_block_to_payload, analysis, analyzed_image_output_dir_path, starting_page_number, extract_forms, form_extraction_skip_tables, **kwargs)\u001b[0m\n\u001b[1;32m    573\u001b[0m         \u001b[38;5;66;03m# NOTE(christine): merged_document_layout = extracted_layout + inferred_layout\u001b[39;00m\n\u001b[1;32m    574\u001b[0m         merged_document_layout \u001b[38;5;241m=\u001b[39m merge_inferred_with_extracted_layout(\n\u001b[1;32m    575\u001b[0m             inferred_document_layout\u001b[38;5;241m=\u001b[39minferred_document_layout,\n\u001b[1;32m    576\u001b[0m             extracted_layout\u001b[38;5;241m=\u001b[39mextracted_layout,\n\u001b[1;32m    577\u001b[0m             hi_res_model_name\u001b[38;5;241m=\u001b[39mhi_res_model_name,\n\u001b[1;32m    578\u001b[0m         )\n\u001b[0;32m--> 580\u001b[0m         final_document_layout \u001b[38;5;241m=\u001b[39m \u001b[43mprocess_file_with_ocr\u001b[49m\u001b[43m(\u001b[49m\n\u001b[1;32m    581\u001b[0m \u001b[43m            \u001b[49m\u001b[43mfilename\u001b[49m\u001b[43m,\u001b[49m\n\u001b[1;32m    582\u001b[0m \u001b[43m            \u001b[49m\u001b[43mmerged_document_layout\u001b[49m\u001b[43m,\u001b[49m\n\u001b[1;32m    583\u001b[0m \u001b[43m            \u001b[49m\u001b[43mextracted_layout\u001b[49m\u001b[38;5;241;43m=\u001b[39;49m\u001b[43mextracted_layout\u001b[49m\u001b[43m,\u001b[49m\n\u001b[1;32m    584\u001b[0m \u001b[43m            \u001b[49m\u001b[43mis_image\u001b[49m\u001b[38;5;241;43m=\u001b[39;49m\u001b[43mis_image\u001b[49m\u001b[43m,\u001b[49m\n\u001b[1;32m    585\u001b[0m \u001b[43m            \u001b[49m\u001b[43minfer_table_structure\u001b[49m\u001b[38;5;241;43m=\u001b[39;49m\u001b[43minfer_table_structure\u001b[49m\u001b[43m,\u001b[49m\n\u001b[1;32m    586\u001b[0m \u001b[43m            \u001b[49m\u001b[43mocr_languages\u001b[49m\u001b[38;5;241;43m=\u001b[39;49m\u001b[43mocr_languages\u001b[49m\u001b[43m,\u001b[49m\n\u001b[1;32m    587\u001b[0m \u001b[43m            \u001b[49m\u001b[43mocr_mode\u001b[49m\u001b[38;5;241;43m=\u001b[39;49m\u001b[43mocr_mode\u001b[49m\u001b[43m,\u001b[49m\n\u001b[1;32m    588\u001b[0m \u001b[43m            \u001b[49m\u001b[43mpdf_image_dpi\u001b[49m\u001b[38;5;241;43m=\u001b[39;49m\u001b[43mpdf_image_dpi\u001b[49m\u001b[43m,\u001b[49m\n\u001b[1;32m    589\u001b[0m \u001b[43m        \u001b[49m\u001b[43m)\u001b[49m\n\u001b[1;32m    590\u001b[0m \u001b[38;5;28;01melse\u001b[39;00m:\n\u001b[1;32m    591\u001b[0m     inferred_document_layout \u001b[38;5;241m=\u001b[39m process_data_with_model(\n\u001b[1;32m    592\u001b[0m         file,\n\u001b[1;32m    593\u001b[0m         is_image\u001b[38;5;241m=\u001b[39mis_image,\n\u001b[1;32m    594\u001b[0m         model_name\u001b[38;5;241m=\u001b[39mhi_res_model_name,\n\u001b[1;32m    595\u001b[0m         pdf_image_dpi\u001b[38;5;241m=\u001b[39mpdf_image_dpi,\n\u001b[1;32m    596\u001b[0m     )\n",
      "File \u001b[0;32m~/miniconda3/envs/udop_rag/lib/python3.10/site-packages/unstructured/utils.py:249\u001b[0m, in \u001b[0;36mrequires_dependencies.<locals>.decorator.<locals>.wrapper\u001b[0;34m(*args, **kwargs)\u001b[0m\n\u001b[1;32m    246\u001b[0m \u001b[38;5;129m@wraps\u001b[39m(func)\n\u001b[1;32m    247\u001b[0m \u001b[38;5;28;01mdef\u001b[39;00m \u001b[38;5;21mwrapper\u001b[39m(\u001b[38;5;241m*\u001b[39margs: _P\u001b[38;5;241m.\u001b[39margs, \u001b[38;5;241m*\u001b[39m\u001b[38;5;241m*\u001b[39mkwargs: _P\u001b[38;5;241m.\u001b[39mkwargs):\n\u001b[1;32m    248\u001b[0m     run_check()\n\u001b[0;32m--> 249\u001b[0m     \u001b[38;5;28;01mreturn\u001b[39;00m \u001b[43mfunc\u001b[49m\u001b[43m(\u001b[49m\u001b[38;5;241;43m*\u001b[39;49m\u001b[43margs\u001b[49m\u001b[43m,\u001b[49m\u001b[43m \u001b[49m\u001b[38;5;241;43m*\u001b[39;49m\u001b[38;5;241;43m*\u001b[39;49m\u001b[43mkwargs\u001b[49m\u001b[43m)\u001b[49m\n",
      "File \u001b[0;32m~/miniconda3/envs/udop_rag/lib/python3.10/site-packages/unstructured/partition/pdf_image/ocr.py:174\u001b[0m, in \u001b[0;36mprocess_file_with_ocr\u001b[0;34m(filename, out_layout, extracted_layout, is_image, infer_table_structure, ocr_languages, ocr_mode, pdf_image_dpi)\u001b[0m\n\u001b[1;32m    172\u001b[0m \u001b[38;5;28;01mexcept\u001b[39;00m \u001b[38;5;167;01mException\u001b[39;00m \u001b[38;5;28;01mas\u001b[39;00m e:\n\u001b[1;32m    173\u001b[0m     \u001b[38;5;28;01mif\u001b[39;00m os\u001b[38;5;241m.\u001b[39mpath\u001b[38;5;241m.\u001b[39misdir(filename) \u001b[38;5;129;01mor\u001b[39;00m os\u001b[38;5;241m.\u001b[39mpath\u001b[38;5;241m.\u001b[39misfile(filename):\n\u001b[0;32m--> 174\u001b[0m         \u001b[38;5;28;01mraise\u001b[39;00m e\n\u001b[1;32m    175\u001b[0m     \u001b[38;5;28;01melse\u001b[39;00m:\n\u001b[1;32m    176\u001b[0m         \u001b[38;5;28;01mraise\u001b[39;00m \u001b[38;5;167;01mFileNotFoundError\u001b[39;00m(\u001b[38;5;124mf\u001b[39m\u001b[38;5;124m'\u001b[39m\u001b[38;5;124mFile \u001b[39m\u001b[38;5;124m\"\u001b[39m\u001b[38;5;132;01m{\u001b[39;00mfilename\u001b[38;5;132;01m}\u001b[39;00m\u001b[38;5;124m\"\u001b[39m\u001b[38;5;124m not found!\u001b[39m\u001b[38;5;124m'\u001b[39m) \u001b[38;5;28;01mfrom\u001b[39;00m \u001b[38;5;21;01me\u001b[39;00m\n",
      "File \u001b[0;32m~/miniconda3/envs/udop_rag/lib/python3.10/site-packages/unstructured/partition/pdf_image/ocr.py:162\u001b[0m, in \u001b[0;36mprocess_file_with_ocr\u001b[0;34m(filename, out_layout, extracted_layout, is_image, infer_table_structure, ocr_languages, ocr_mode, pdf_image_dpi)\u001b[0m\n\u001b[1;32m    160\u001b[0m     extracted_regions \u001b[38;5;241m=\u001b[39m extracted_layout[i] \u001b[38;5;28;01mif\u001b[39;00m i \u001b[38;5;241m<\u001b[39m \u001b[38;5;28mlen\u001b[39m(extracted_layout) \u001b[38;5;28;01melse\u001b[39;00m \u001b[38;5;28;01mNone\u001b[39;00m\n\u001b[1;32m    161\u001b[0m     \u001b[38;5;28;01mwith\u001b[39;00m PILImage\u001b[38;5;241m.\u001b[39mopen(image_path) \u001b[38;5;28;01mas\u001b[39;00m image:\n\u001b[0;32m--> 162\u001b[0m         merged_page_layout \u001b[38;5;241m=\u001b[39m \u001b[43msupplement_page_layout_with_ocr\u001b[49m\u001b[43m(\u001b[49m\n\u001b[1;32m    163\u001b[0m \u001b[43m            \u001b[49m\u001b[43mpage_layout\u001b[49m\u001b[38;5;241;43m=\u001b[39;49m\u001b[43mout_layout\u001b[49m\u001b[38;5;241;43m.\u001b[39;49m\u001b[43mpages\u001b[49m\u001b[43m[\u001b[49m\u001b[43mi\u001b[49m\u001b[43m]\u001b[49m\u001b[43m,\u001b[49m\n\u001b[1;32m    164\u001b[0m \u001b[43m            \u001b[49m\u001b[43mimage\u001b[49m\u001b[38;5;241;43m=\u001b[39;49m\u001b[43mimage\u001b[49m\u001b[43m,\u001b[49m\n\u001b[1;32m    165\u001b[0m \u001b[43m            \u001b[49m\u001b[43minfer_table_structure\u001b[49m\u001b[38;5;241;43m=\u001b[39;49m\u001b[43minfer_table_structure\u001b[49m\u001b[43m,\u001b[49m\n\u001b[1;32m    166\u001b[0m \u001b[43m            \u001b[49m\u001b[43mocr_languages\u001b[49m\u001b[38;5;241;43m=\u001b[39;49m\u001b[43mocr_languages\u001b[49m\u001b[43m,\u001b[49m\n\u001b[1;32m    167\u001b[0m \u001b[43m            \u001b[49m\u001b[43mocr_mode\u001b[49m\u001b[38;5;241;43m=\u001b[39;49m\u001b[43mocr_mode\u001b[49m\u001b[43m,\u001b[49m\n\u001b[1;32m    168\u001b[0m \u001b[43m            \u001b[49m\u001b[43mextracted_regions\u001b[49m\u001b[38;5;241;43m=\u001b[39;49m\u001b[43mextracted_regions\u001b[49m\u001b[43m,\u001b[49m\n\u001b[1;32m    169\u001b[0m \u001b[43m        \u001b[49m\u001b[43m)\u001b[49m\n\u001b[1;32m    170\u001b[0m         merged_page_layouts\u001b[38;5;241m.\u001b[39mappend(merged_page_layout)\n\u001b[1;32m    171\u001b[0m \u001b[38;5;28;01mreturn\u001b[39;00m DocumentLayout\u001b[38;5;241m.\u001b[39mfrom_pages(merged_page_layouts)\n",
      "File \u001b[0;32m~/miniconda3/envs/udop_rag/lib/python3.10/site-packages/unstructured/utils.py:249\u001b[0m, in \u001b[0;36mrequires_dependencies.<locals>.decorator.<locals>.wrapper\u001b[0;34m(*args, **kwargs)\u001b[0m\n\u001b[1;32m    246\u001b[0m \u001b[38;5;129m@wraps\u001b[39m(func)\n\u001b[1;32m    247\u001b[0m \u001b[38;5;28;01mdef\u001b[39;00m \u001b[38;5;21mwrapper\u001b[39m(\u001b[38;5;241m*\u001b[39margs: _P\u001b[38;5;241m.\u001b[39margs, \u001b[38;5;241m*\u001b[39m\u001b[38;5;241m*\u001b[39mkwargs: _P\u001b[38;5;241m.\u001b[39mkwargs):\n\u001b[1;32m    248\u001b[0m     run_check()\n\u001b[0;32m--> 249\u001b[0m     \u001b[38;5;28;01mreturn\u001b[39;00m \u001b[43mfunc\u001b[49m\u001b[43m(\u001b[49m\u001b[38;5;241;43m*\u001b[39;49m\u001b[43margs\u001b[49m\u001b[43m,\u001b[49m\u001b[43m \u001b[49m\u001b[38;5;241;43m*\u001b[39;49m\u001b[38;5;241;43m*\u001b[39;49m\u001b[43mkwargs\u001b[49m\u001b[43m)\u001b[49m\n",
      "File \u001b[0;32m~/miniconda3/envs/udop_rag/lib/python3.10/site-packages/unstructured/partition/pdf_image/ocr.py:240\u001b[0m, in \u001b[0;36msupplement_page_layout_with_ocr\u001b[0;34m(page_layout, image, infer_table_structure, ocr_languages, ocr_mode, extracted_regions)\u001b[0m\n\u001b[1;32m    237\u001b[0m     \u001b[38;5;28;01mif\u001b[39;00m tables\u001b[38;5;241m.\u001b[39mtables_agent \u001b[38;5;129;01mis\u001b[39;00m \u001b[38;5;28;01mNone\u001b[39;00m:\n\u001b[1;32m    238\u001b[0m         \u001b[38;5;28;01mraise\u001b[39;00m \u001b[38;5;167;01mRuntimeError\u001b[39;00m(\u001b[38;5;124m\"\u001b[39m\u001b[38;5;124mUnable to load table extraction agent.\u001b[39m\u001b[38;5;124m\"\u001b[39m)\n\u001b[0;32m--> 240\u001b[0m     page_layout\u001b[38;5;241m.\u001b[39melements[:] \u001b[38;5;241m=\u001b[39m \u001b[43msupplement_element_with_table_extraction\u001b[49m\u001b[43m(\u001b[49m\n\u001b[1;32m    241\u001b[0m \u001b[43m        \u001b[49m\u001b[43melements\u001b[49m\u001b[38;5;241;43m=\u001b[39;49m\u001b[43mcast\u001b[49m\u001b[43m(\u001b[49m\u001b[43mList\u001b[49m\u001b[43m[\u001b[49m\u001b[38;5;124;43m\"\u001b[39;49m\u001b[38;5;124;43mLayoutElement\u001b[39;49m\u001b[38;5;124;43m\"\u001b[39;49m\u001b[43m]\u001b[49m\u001b[43m,\u001b[49m\u001b[43m \u001b[49m\u001b[43mpage_layout\u001b[49m\u001b[38;5;241;43m.\u001b[39;49m\u001b[43melements\u001b[49m\u001b[43m)\u001b[49m\u001b[43m,\u001b[49m\n\u001b[1;32m    242\u001b[0m \u001b[43m        \u001b[49m\u001b[43mimage\u001b[49m\u001b[38;5;241;43m=\u001b[39;49m\u001b[43mimage\u001b[49m\u001b[43m,\u001b[49m\n\u001b[1;32m    243\u001b[0m \u001b[43m        \u001b[49m\u001b[43mtables_agent\u001b[49m\u001b[38;5;241;43m=\u001b[39;49m\u001b[43mtables\u001b[49m\u001b[38;5;241;43m.\u001b[39;49m\u001b[43mtables_agent\u001b[49m\u001b[43m,\u001b[49m\n\u001b[1;32m    244\u001b[0m \u001b[43m        \u001b[49m\u001b[43mocr_languages\u001b[49m\u001b[38;5;241;43m=\u001b[39;49m\u001b[43mocr_languages\u001b[49m\u001b[43m,\u001b[49m\n\u001b[1;32m    245\u001b[0m \u001b[43m        \u001b[49m\u001b[43mocr_agent\u001b[49m\u001b[38;5;241;43m=\u001b[39;49m\u001b[43mocr_agent\u001b[49m\u001b[43m,\u001b[49m\n\u001b[1;32m    246\u001b[0m \u001b[43m        \u001b[49m\u001b[43mextracted_regions\u001b[49m\u001b[38;5;241;43m=\u001b[39;49m\u001b[43mextracted_regions\u001b[49m\u001b[43m,\u001b[49m\n\u001b[1;32m    247\u001b[0m \u001b[43m    \u001b[49m\u001b[43m)\u001b[49m\n\u001b[1;32m    249\u001b[0m \u001b[38;5;28;01mreturn\u001b[39;00m page_layout\n",
      "File \u001b[0;32m~/miniconda3/envs/udop_rag/lib/python3.10/site-packages/unstructured/utils.py:249\u001b[0m, in \u001b[0;36mrequires_dependencies.<locals>.decorator.<locals>.wrapper\u001b[0;34m(*args, **kwargs)\u001b[0m\n\u001b[1;32m    246\u001b[0m \u001b[38;5;129m@wraps\u001b[39m(func)\n\u001b[1;32m    247\u001b[0m \u001b[38;5;28;01mdef\u001b[39;00m \u001b[38;5;21mwrapper\u001b[39m(\u001b[38;5;241m*\u001b[39margs: _P\u001b[38;5;241m.\u001b[39margs, \u001b[38;5;241m*\u001b[39m\u001b[38;5;241m*\u001b[39mkwargs: _P\u001b[38;5;241m.\u001b[39mkwargs):\n\u001b[1;32m    248\u001b[0m     run_check()\n\u001b[0;32m--> 249\u001b[0m     \u001b[38;5;28;01mreturn\u001b[39;00m \u001b[43mfunc\u001b[49m\u001b[43m(\u001b[49m\u001b[38;5;241;43m*\u001b[39;49m\u001b[43margs\u001b[49m\u001b[43m,\u001b[49m\u001b[43m \u001b[49m\u001b[38;5;241;43m*\u001b[39;49m\u001b[38;5;241;43m*\u001b[39;49m\u001b[43mkwargs\u001b[49m\u001b[43m)\u001b[49m\n",
      "File \u001b[0;32m~/miniconda3/envs/udop_rag/lib/python3.10/site-packages/unstructured/partition/pdf_image/ocr.py:287\u001b[0m, in \u001b[0;36msupplement_element_with_table_extraction\u001b[0;34m(elements, image, tables_agent, ocr_languages, ocr_agent, extracted_regions)\u001b[0m\n\u001b[1;32m    272\u001b[0m cropped_image \u001b[38;5;241m=\u001b[39m image\u001b[38;5;241m.\u001b[39mcrop(\n\u001b[1;32m    273\u001b[0m     (\n\u001b[1;32m    274\u001b[0m         padded_element\u001b[38;5;241m.\u001b[39mbbox\u001b[38;5;241m.\u001b[39mx1,\n\u001b[0;32m   (...)\u001b[0m\n\u001b[1;32m    278\u001b[0m     ),\n\u001b[1;32m    279\u001b[0m )\n\u001b[1;32m    280\u001b[0m table_tokens \u001b[38;5;241m=\u001b[39m get_table_tokens(\n\u001b[1;32m    281\u001b[0m     table_element_image\u001b[38;5;241m=\u001b[39mcropped_image,\n\u001b[1;32m    282\u001b[0m     ocr_languages\u001b[38;5;241m=\u001b[39mocr_languages,\n\u001b[0;32m   (...)\u001b[0m\n\u001b[1;32m    285\u001b[0m     table_element\u001b[38;5;241m=\u001b[39mpadded_element,\n\u001b[1;32m    286\u001b[0m )\n\u001b[0;32m--> 287\u001b[0m tatr_cells \u001b[38;5;241m=\u001b[39m \u001b[43mtables_agent\u001b[49m\u001b[38;5;241;43m.\u001b[39;49m\u001b[43mpredict\u001b[49m\u001b[43m(\u001b[49m\n\u001b[1;32m    288\u001b[0m \u001b[43m    \u001b[49m\u001b[43mcropped_image\u001b[49m\u001b[43m,\u001b[49m\u001b[43m \u001b[49m\u001b[43mocr_tokens\u001b[49m\u001b[38;5;241;43m=\u001b[39;49m\u001b[43mtable_tokens\u001b[49m\u001b[43m,\u001b[49m\u001b[43m \u001b[49m\u001b[43mresult_format\u001b[49m\u001b[38;5;241;43m=\u001b[39;49m\u001b[38;5;124;43m\"\u001b[39;49m\u001b[38;5;124;43mcells\u001b[39;49m\u001b[38;5;124;43m\"\u001b[39;49m\n\u001b[1;32m    289\u001b[0m \u001b[43m\u001b[49m\u001b[43m)\u001b[49m\n\u001b[1;32m    291\u001b[0m \u001b[38;5;66;03m# NOTE(christine): `tatr_cells == \"\"` means that the table was not recognized\u001b[39;00m\n\u001b[1;32m    292\u001b[0m text_as_html \u001b[38;5;241m=\u001b[39m \u001b[38;5;124m\"\u001b[39m\u001b[38;5;124m\"\u001b[39m \u001b[38;5;28;01mif\u001b[39;00m tatr_cells \u001b[38;5;241m==\u001b[39m \u001b[38;5;124m\"\u001b[39m\u001b[38;5;124m\"\u001b[39m \u001b[38;5;28;01melse\u001b[39;00m cells_to_html(tatr_cells)\n",
      "\u001b[0;31mTypeError\u001b[0m: UnstructuredTableTransformerModel.predict() got an unexpected keyword argument 'result_format'"
     ]
    }
   ],
   "source": [
    "# 5분 소요\n",
    "import os\n",
    "from langchain_text_splitters import CharacterTextSplitter\n",
    "from unstructured.partition.pdf import partition_pdf\n",
    "\n",
    "# PDF에서 요소 추출\n",
    "\n",
    "\n",
    "def extract_pdf_elements(path, fname):\n",
    "    \"\"\"\n",
    "    PDF 파일에서 이미지, 테이블, 그리고 텍스트 조각을 추출합니다.\n",
    "    path: 이미지(.jpg)를 저장할 파일 경로\n",
    "    fname: 파일 이름\n",
    "    \"\"\"\n",
    "    return partition_pdf(\n",
    "        filename=os.path.join(path, fname),\n",
    "        extract_images_in_pdf=True,  # PDF 내 이미지 추출 활성화\n",
    "        infer_table_structure=False,  # 테이블 구조 추론 활성화\n",
    "        chunking_strategy=\"by_title\",  # 제목별로 텍스트 조각화\n",
    "        max_characters=4000,  # 최대 문자 수\n",
    "        new_after_n_chars=3800,  # 이 문자 수 이후에 새로운 조각 생성\n",
    "        combine_text_under_n_chars=2000,  # 이 문자 수 이하의 텍스트는 결합\n",
    "        image_output_dir_path=path,  # 이미지 출력 디렉토리 경로\n",
    "    )\n",
    "\n",
    "\n",
    "# 요소를 유형별로 분류\n",
    "\n",
    "\n",
    "def categorize_elements(raw_pdf_elements):\n",
    "    \"\"\"\n",
    "    PDF에서 추출된 요소를 테이블과 텍스트로 분류합니다.\n",
    "    raw_pdf_elements: unstructured.documents.elements의 리스트\n",
    "    \"\"\"\n",
    "    tables = []  # 테이블 저장 리스트\n",
    "    texts = []  # 텍스트 저장 리스트\n",
    "    for element in raw_pdf_elements:\n",
    "        if \"unstructured.documents.elements.Table\" in str(type(element)):\n",
    "            tables.append(str(element))  # 테이블 요소 추가\n",
    "        elif \"unstructured.documents.elements.CompositeElement\" in str(type(element)):\n",
    "            texts.append(str(element))  # 텍스트 요소 추가\n",
    "    return texts, tables\n",
    "\n",
    "\n",
    "# 요소 추출\n",
    "raw_pdf_elements = extract_pdf_elements(fpath, fname)\n",
    "\n",
    "# 텍스트, 테이블 추출\n",
    "texts, tables = categorize_elements(raw_pdf_elements)\n",
    "\n",
    "# 선택사항: 텍스트에 대해 특정 토큰 크기 적용\n",
    "text_splitter = CharacterTextSplitter.from_tiktoken_encoder(\n",
    "    chunk_size=4000, chunk_overlap=0  # 텍스트를 4000 토큰 크기로 분할, 중복 없음\n",
    ")\n",
    "joined_texts = \" \".join(texts)  # 텍스트 결합\n",
    "texts_4k_token = text_splitter.split_text(joined_texts)  # 분할 실행"
   ]
  },
  {
   "cell_type": "code",
   "execution_count": null,
   "id": "750fdf2e-5404-40fa-a7e0-4d5da524cbcd",
   "metadata": {},
   "outputs": [],
   "source": []
  },
  {
   "cell_type": "code",
   "execution_count": null,
   "id": "04d5d147",
   "metadata": {
    "colab": {
     "base_uri": "https://localhost:8080/"
    },
    "id": "04d5d147",
    "outputId": "dd14f1b9-e753-4ed3-d6fa-48a6ee30df6c"
   },
   "outputs": [
    {
     "data": {
      "text/plain": [
       "5"
      ]
     },
     "execution_count": 42,
     "metadata": {},
     "output_type": "execute_result"
    }
   ],
   "source": [
    "len(texts_4k_token)"
   ]
  },
  {
   "cell_type": "code",
   "execution_count": null,
   "id": "WhURByg0qg8y",
   "metadata": {
    "colab": {
     "base_uri": "https://localhost:8080/",
     "height": 157
    },
    "id": "WhURByg0qg8y",
    "outputId": "9d617e71-fdba-46aa-cd31-26791044a058"
   },
   "outputs": [
    {
     "data": {
      "application/vnd.google.colaboratory.intrinsic+json": {
       "type": "string"
      },
      "text/plain": [
       "\"삼성전자 \\n\\n경영설명회: 2024년 1분기\\n\\nSAMSUNG\\n\\n유의사항\\n\\n본 자료의 재무정보는 한국채택국제회계기준에 따라 작성된 연결 기준의 영업실적입니다. 본 자료에 포함된 “2024년 1분기 실적”은 본사, 자회사 및 관계사 등에 대한 외부감사인의 회계검토가 완료되지 않은 상태에서 투자자 여러분의 편의를 위해 작성된 자료이므로, 그 내용 중 일부는 회계검토과정에서 달라질 수 있음을 양지하시기 바랍니다. 또한 본 자료는 미래에 대한 “예측정보”를 포함하고 있습니다. 이는 과거가 아닌 미래의 사건과 관계된 것으로 회사의 향후 예상되는 경영현황 및 재무실적을 의미하고, 표현상으로는 ‘예상’, ‘전망’, ‘계획’, ‘기대’ 등과 같은 단어를 포함합니다. “예측정보”는 그 성격상 불확실한 사건들을 언급하는데, 회사의 향후 경영현황 및 재무실적에 긍정적 또는 부정적으로 영향을 미칠 수 있는 불확실성에는 다음과 같은 것들이 포함됩니다.\\n\\n· 환율, 이자율 등의 변동을 포함한 국내·외 금융시장의 동향 · 사업의 처분, 인수 등을 포함한 회사의 전략적인 의사결정 · DX: Device eXperience, DS: Device Solutions 등 회사가 영위하는 주요 사업분야의 예상치 못한 급격한 여건 변화 · 기타 경영현황 및 재무실적에 영향을 미칠 수 있는 국내·외적 변화\\n\\n이러한 불확실성으로 인해 회사의 실제 미래 실적은 “예측정보”에 명시적 또는 묵시적으로 포함된 내용과 중대한 차이가 있을 수 있음을 양지하시기 바랍니다.\\n\\nSAMSUNG\\n\\nSAMSUNG\\n\\n목차 \\n\\n'24년 1분기 실적발표 발표자\\n\\n사업부문별 실적 및 향후 전망\\n\\n'24년 1분기 경영실적 및 재무현황\\n\\n별첨\\n\\n사업부문별 매출 및 영업이익\\n\\nSAMSUNG\\n\\n'24년 1분기 실적발표 사업부문별 발표자\\n\\n다니엘 오 부사장 Investor Relations\\n\\n김재준 부사장 메모리\\n\\nLL _\\n\\n권형석 상무 System LSI\\n\\n송태중 상무 파운드리\\n\\nEe\\n\\n|\\n\\nDevice Solutions\\n\\n허철 부사장 삼성디스플레이\\n\\n다니엘아라우호 상무 Mobile eXperience\\n\\n노경래 상무 Visual Display\\n\\nDevice eXperience\\n\\nSAMSUNG\\n\\n'24년 1분기 경영실적 및 재무현황 연결기준 전사 손익 분석 \\n\\n'24년 1분기 경영실적 및 재무현황 연결기준 전사 손익 분석  주요 수익성 지표  1Q '24  4Q '23  1Q '23  매출비중  매출비중  (단위: 조원)  1Q '24  4Q '23  1Q '23  매출액  71.92  67.78  63.75  100.0%  100.0%  ROE  7%  7%  2%  매출원가  45.89  46.12  46.01  63.8%  68.0%  매출액 순이익률 (순이익/매출)  0.09  0.09  0.02  매출총이익  26.03  21.66  17.74  36.2%  32.0%  총자산 회전율 (매출/총자산)  0.62  0.60  0.57  판관비  19.42  18.84  17.10  27.0%  27.8%  재무 레버리지 (총자산/총자본)  1.26  1.26  1.26  연구개발비  7.82  7.55  6.58  10.9%  11.1%  EBITDA 마진  22%  18%  15%  영업이익  6.61  2.82  0.64  9.2%  4.2%  기타영업외수익/비용  0.06  -  (0.27)  -  0.30  1Q '23  4Q '23  1Q '24  지분법손익  0.21  -  0.21  -  0.21  금융손익  0.82  -  0.76  -  0.67  7%  7%  법인세차감전이익  7.71  3.52  1.83  10.7%  5.2%  2%  법인세비용  0.95  -  (2.82)  -  0.25  순이익  6.75  6.34  1.57  9.4%  9.4%  22%  지배기업 소유주지분 순이익  6.62  9.2%  6.02  8.9%  1.40  18% \\n\\nSAMSUNG\\n\\n'24년 1분기 경영실적 및 재무현황 연결기준 전사 손익 분석\\n\\n주요 수익성 지표 eT\\n\\nROE EBITDA 마진\\n\\n사업부문별 매출 및 영업이익 \\n\\n사업부문별 매출 및 영업이익  매출  영업이익  1Q '24  4Q '23  1Q '23  QoQ  YoY  1Q '24  4Q '23  1Q '23  QoQ  YoY  (단위: 조원)  (단위: 조원)  총 액  71.92  67.78  63.75  6%↑  13%↑  총 액  6.61  2.82  0.64  3.78  5.97  DX 부문  47.29  39.55  46.22  20%↑  2%↑  DX 부문  4.07  2.62  4.21  1.46  (0.13)  MX / 네트워크  33.53  25.04  31.82  34%↑  5%↑  MX / 네트워크  3.51  2.73  3.94  0.78  (0.44)  MX  32.79  24.03  30.74  36%↑  7%↑  VD / 가전 등  13.48  14.26  14.08  VD/가전 등  0.53  (0.05)  0.19  5%↓  4%↓  0.58  0.34  VD  7.23  8.38  7.43  14%↓  3%↓  DS 부문  1.91  (2.18)  (4.58)  4.10  6.50  DS 부문  23.14  21.69  13.73  7%↑  68%↑  SDC  0.34  2.01  0.78  (1.67)  (0.44)  메모리  17.49  15.71  8.92  11%↑  96%↑  하만  0.24  0.34  0.13  (0.10)  0.11  SDC  5.39  9.66  6.61  44%↓  19%↓ \\n\\nSAMSUNG 매출\\n\\n영업이익 (단위: 조원)\\n\\n총 액\""
      ]
     },
     "execution_count": 59,
     "metadata": {},
     "output_type": "execute_result"
    }
   ],
   "source": [
    "texts_4k_token[0]"
   ]
  },
  {
   "cell_type": "markdown",
   "id": "5bf5f247",
   "metadata": {
    "id": "5bf5f247"
   },
   "source": [
    "## 멀티-벡터 검색기\n",
    "\n",
    "[multi-vector-retriever](https://python.langchain.com/docs/modules/data_connection/retrievers/multi_vector#summary)를 사용하여 이미지(그리고/또는 텍스트, 테이블) 요약을 색인화하지만, 원본 이미지(원본 텍스트나 테이블과 함께)를 검색합니다.\n",
    "\n",
    "### 텍스트 및 테이블 요약\n",
    "\n",
    "테이블과 선택적으로 텍스트 요약을 생성하기 위해 `GPT-4-turbo`를 사용할 것입니다.\n",
    "\n",
    "큰 청크 크기를 사용하는 경우(예를 들어, 위에서 설정한 것처럼 4k 토큰 청크를 사용) 텍스트 요약이 권장됩니다.\n",
    "\n",
    "요약은 원본 테이블 및/또는 원본 텍스트 청크를 검색하는 데 사용됩니다.\n"
   ]
  },
  {
   "cell_type": "code",
   "execution_count": null,
   "id": "vYWU3T6odvB0",
   "metadata": {
    "colab": {
     "base_uri": "https://localhost:8080/"
    },
    "id": "vYWU3T6odvB0",
    "outputId": "8d290bbb-89f6-427e-ff95-9c8588eebbc6"
   },
   "outputs": [
    {
     "data": {
      "text/plain": [
       "True"
      ]
     },
     "execution_count": 44,
     "metadata": {},
     "output_type": "execute_result"
    }
   ],
   "source": [
    "# .env file 작성\n",
    "openai_api_key = \"sk-proj-DqupJtIDoFWNkIRTUycNT3BlbkFJjKf8bsX1bRKPhki2vsrJ\"\n",
    "\n",
    "# API 키를 환경변수로 관리하기 위한 설정 파일 작성\n",
    "with open(\".env\", \"w\") as f:\n",
    "    f.write(f\"OPENAI_API_KEY={openai_api_key}\\n\")\n",
    "\n",
    "# Load the .env file and read the API key\n",
    "import os\n",
    "from dotenv import load_dotenv\n",
    "\n",
    "# API 키 정보 로드\n",
    "load_dotenv()"
   ]
  },
  {
   "cell_type": "code",
   "execution_count": null,
   "id": "b389203c",
   "metadata": {
    "id": "b389203c"
   },
   "outputs": [],
   "source": [
    "from langchain_core.output_parsers import StrOutputParser\n",
    "from langchain_core.prompts import ChatPromptTemplate\n",
    "from langchain_openai import ChatOpenAI\n",
    "\n",
    "# 텍스트 요소의 요약 생성\n",
    "\n",
    "\n",
    "def generate_text_summaries(texts, tables, summarize_texts=False):\n",
    "    \"\"\"\n",
    "    텍스트 요소 요약\n",
    "    texts: 문자열 리스트\n",
    "    tables: 문자열 리스트\n",
    "    summarize_texts: 텍스트 요약 여부를 결정. True/False\n",
    "    \"\"\"\n",
    "\n",
    "    # 프롬프트 설정\n",
    "    prompt_text = \"\"\"You are an assistant tasked with summarizing tables and text for retrieval. \\\n",
    "    These summaries will be embedded and used to retrieve the raw text or table elements. \\\n",
    "    Give a concise summary of the table or text that is well optimized for retrieval. Table or text: {element} \"\"\"\n",
    "    prompt = ChatPromptTemplate.from_template(prompt_text)\n",
    "\n",
    "    # 텍스트 요약 체인\n",
    "    model = ChatOpenAI(temperature=0, model=\"gpt-4\") #gpt-4\n",
    "    summarize_chain = {\"element\": lambda x: x} | prompt | model | StrOutputParser()\n",
    "\n",
    "    # 요약을 위한 빈 리스트 초기화\n",
    "    text_summaries = []\n",
    "    table_summaries = []\n",
    "\n",
    "    # 제공된 텍스트에 대해 요약이 요청되었을 경우 적용\n",
    "    if texts and summarize_texts:\n",
    "        text_summaries = summarize_chain.batch(texts, {\"max_concurrency\": 5})\n",
    "    elif texts:\n",
    "        text_summaries = texts\n",
    "\n",
    "    # 제공된 테이블에 적용\n",
    "    if tables:\n",
    "        table_summaries = summarize_chain.batch(tables, {\"max_concurrency\": 5})\n",
    "\n",
    "    return text_summaries, table_summaries\n",
    "\n",
    "\n",
    "# 텍스트, 테이블 요약 가져오기\n",
    "text_summaries, table_summaries = generate_text_summaries(\n",
    "    texts_4k_token, tables, summarize_texts=True\n",
    ")"
   ]
  },
  {
   "cell_type": "code",
   "execution_count": null,
   "id": "qgn0VQbQqxgO",
   "metadata": {
    "colab": {
     "base_uri": "https://localhost:8080/"
    },
    "id": "qgn0VQbQqxgO",
    "outputId": "347758a6-e0e7-43f7-b334-a74cb1c49653"
   },
   "outputs": [
    {
     "name": "stdout",
     "output_type": "stream",
     "text": [
      "5\n"
     ]
    }
   ],
   "source": [
    "print(len(text_summaries))"
   ]
  },
  {
   "cell_type": "code",
   "execution_count": null,
   "id": "bYMWM9zLq1CR",
   "metadata": {
    "colab": {
     "base_uri": "https://localhost:8080/"
    },
    "id": "bYMWM9zLq1CR",
    "outputId": "e056cc21-0b96-48f3-fcd6-bc4d65906b6f"
   },
   "outputs": [
    {
     "name": "stdout",
     "output_type": "stream",
     "text": [
      "8\n"
     ]
    }
   ],
   "source": [
    "\n",
    "\n"
   ]
  },
  {
   "cell_type": "markdown",
   "id": "7bf8b1c4",
   "metadata": {
    "id": "7bf8b1c4"
   },
   "source": [
    "### 이미지 요약\n",
    "\n",
    "`GPT-4o`를 사용하여 이미지 요약을 생성할 것입니다.\n",
    "\n",
    "- base64로 인코딩된 이미지를 전달합니다.\n"
   ]
  },
  {
   "cell_type": "code",
   "execution_count": null,
   "id": "0a9049dc",
   "metadata": {
    "id": "0a9049dc"
   },
   "outputs": [],
   "source": [
    "import base64\n",
    "import os\n",
    "\n",
    "from langchain_core.messages import HumanMessage\n",
    "\n",
    "\n",
    "def encode_image(image_path):\n",
    "    # 이미지 파일을 base64 문자열로 인코딩합니다.\n",
    "    with open(image_path, \"rb\") as image_file:\n",
    "        return base64.b64encode(image_file.read()).decode(\"utf-8\")\n",
    "\n",
    "\n",
    "def image_summarize(img_base64, prompt):\n",
    "    # 이미지 요약을 생성합니다.\n",
    "    chat = ChatOpenAI(model=\"gpt-4o\", max_tokens=2048)\n",
    "\n",
    "    msg = chat.invoke(\n",
    "        [\n",
    "            HumanMessage(\n",
    "                content=[\n",
    "                    {\"type\": \"text\", \"text\": prompt},\n",
    "                    {\n",
    "                        \"type\": \"image_url\",\n",
    "                        \"image_url\": {\"url\": f\"data:image/jpeg;base64,{img_base64}\"},\n",
    "                    },\n",
    "                ]\n",
    "            )\n",
    "        ]\n",
    "    )\n",
    "    return msg.content\n",
    "\n",
    "\n",
    "def generate_img_summaries(path):\n",
    "    \"\"\"\n",
    "    이미지에 대한 요약과 base64 인코딩된 문자열을 생성합니다.\n",
    "    path: Unstructured에 의해 추출된 .jpg 파일 목록의 경로\n",
    "    \"\"\"\n",
    "\n",
    "    # base64로 인코딩된 이미지를 저장할 리스트\n",
    "    img_base64_list = []\n",
    "\n",
    "    # 이미지 요약을 저장할 리스트\n",
    "    image_summaries = []\n",
    "\n",
    "    # 요약을 위한 프롬프트\n",
    "    prompt = \"\"\"You are an assistant tasked with summarizing images for retrieval. \\\n",
    "    These summaries will be embedded and used to retrieve the raw image. \\\n",
    "    Give a concise summary of the image that is well optimized for retrieval.\"\"\"\n",
    "\n",
    "    # 이미지에 적용\n",
    "    for img_file in sorted(os.listdir(path)):\n",
    "        if img_file.endswith(\".jpg\"):\n",
    "            img_path = os.path.join(path, img_file)\n",
    "            base64_image = encode_image(img_path)\n",
    "            img_base64_list.append(base64_image)\n",
    "            image_summaries.append(image_summarize(base64_image, prompt))\n",
    "\n",
    "    return img_base64_list, image_summaries\n",
    "\n",
    "\n",
    "# 이미지 요약 실행\n",
    "image_path='/content/figures'\n",
    "img_base64_list, image_summaries = generate_img_summaries(image_path)"
   ]
  },
  {
   "cell_type": "code",
   "execution_count": null,
   "id": "4c81edc5",
   "metadata": {
    "colab": {
     "base_uri": "https://localhost:8080/"
    },
    "id": "4c81edc5",
    "outputId": "d88159a1-a5bd-405d-9837-1586d146f387"
   },
   "outputs": [
    {
     "data": {
      "text/plain": [
       "47"
      ]
     },
     "execution_count": 49,
     "metadata": {},
     "output_type": "execute_result"
    }
   ],
   "source": [
    "len(image_summaries)"
   ]
  },
  {
   "cell_type": "code",
   "execution_count": null,
   "id": "urjgshvYg8K8",
   "metadata": {
    "colab": {
     "base_uri": "https://localhost:8080/",
     "height": 36
    },
    "id": "urjgshvYg8K8",
    "outputId": "19a2ef67-9e3b-488c-ddf5-1a53da30ecc5"
   },
   "outputs": [
    {
     "data": {
      "application/vnd.google.colaboratory.intrinsic+json": {
       "type": "string"
      },
      "text/plain": [
       "'Image with Korean text \"삼성전자\" on a dark background.'"
      ]
     },
     "execution_count": 50,
     "metadata": {},
     "output_type": "execute_result"
    }
   ],
   "source": [
    "image_summaries[0]"
   ]
  },
  {
   "cell_type": "markdown",
   "id": "2a64ac63",
   "metadata": {
    "id": "2a64ac63"
   },
   "source": [
    "### 벡터 저장소에 추가하기\n",
    "\n",
    "원본 문서와 문서 요약을 [Multi Vector Retriever](https://python.langchain.com/docs/modules/data_connection/retrievers/multi_vector#summary)에 추가하는 방법:\n",
    "\n",
    "- 원본 텍스트, 테이블, 이미지를 `docstore`에 저장합니다.\n",
    "- 효율적인 의미론적 검색을 위해 텍스트, 테이블 요약, 이미지 요약을 `vectorstore`에 저장합니다.\n"
   ]
  },
  {
   "cell_type": "markdown",
   "id": "7abb6483",
   "metadata": {
    "id": "7abb6483"
   },
   "source": [
    "다양한 유형의 데이터(텍스트, 테이블, 이미지)를 색인화하고 검색할 수 있는 멀티 벡터 검색기를 생성하는 과정을 설명합니다.\n",
    "\n",
    "- `InMemoryStore`를 사용하여 저장 계층을 초기화합니다.\n",
    "- `MultiVectorRetriever`를 생성하여, 요약된 데이터를 색인화하지만 원본 텍스트나 이미지를 반환하도록 설정합니다.\n",
    "- 각 데이터 유형(텍스트, 테이블, 이미지)에 대해 요약과 원본 데이터를 `vectorstore`와 `docstore`에 추가하는 과정을 포함합니다.\n",
    "  - 각 문서에 대해 고유한 `doc_id`를 생성합니다.\n",
    "  - 요약된 데이터를 `vectorstore`에 추가하고, 원본 데이터와 `doc_id`를 `docstore`에 저장합니다.\n",
    "- 데이터 유형별로 요약이 비어 있지 않은 경우에만 해당 데이터를 추가하는 조건을 확인합니다.\n",
    "- `Chroma` 벡터 저장소를 사용하여 요약을 색인화하고, `OpenAIEmbeddings` 함수를 사용하여 임베딩을 생성합니다.\n",
    "- 생성된 멀티 벡터 검색기는 다양한 유형의 데이터에 대한 요약을 색인화하고, 검색 시 원본 데이터를 반환할 수 있습니다.\n"
   ]
  },
  {
   "cell_type": "code",
   "execution_count": null,
   "id": "bb248cfe",
   "metadata": {
    "id": "bb248cfe"
   },
   "outputs": [],
   "source": [
    "import uuid\n",
    "\n",
    "from langchain.retrievers.multi_vector import MultiVectorRetriever\n",
    "from langchain.storage import InMemoryStore\n",
    "from langchain_community.vectorstores import Chroma\n",
    "from langchain_core.documents import Document\n",
    "from langchain_openai import OpenAIEmbeddings\n",
    "\n",
    "\n",
    "def create_multi_vector_retriever(\n",
    "    vectorstore, text_summaries, texts, table_summaries, tables, image_summaries, images\n",
    "):\n",
    "    \"\"\"\n",
    "    요약을 색인화하지만 원본 이미지나 텍스트를 반환하는 검색기를 생성합니다.\n",
    "    \"\"\"\n",
    "\n",
    "    # 저장 계층 초기화\n",
    "    store = InMemoryStore()\n",
    "    id_key = \"doc_id\"\n",
    "\n",
    "    # 멀티 벡터 검색기 생성\n",
    "    retriever = MultiVectorRetriever(\n",
    "        vectorstore=vectorstore,\n",
    "        docstore=store,\n",
    "        id_key=id_key,\n",
    "    )\n",
    "\n",
    "    # 문서를 벡터 저장소와 문서 저장소에 추가하는 헬퍼 함수\n",
    "    def add_documents(retriever, doc_summaries, doc_contents):\n",
    "        doc_ids = [\n",
    "            str(uuid.uuid4()) for _ in doc_contents\n",
    "        ]  # 문서 내용마다 고유 ID 생성\n",
    "        summary_docs = [\n",
    "            Document(page_content=s, metadata={id_key: doc_ids[i]})\n",
    "            for i, s in enumerate(doc_summaries)\n",
    "        ]\n",
    "        retriever.vectorstore.add_documents(\n",
    "            summary_docs\n",
    "        )  # 요약 문서를 벡터 저장소에 추가\n",
    "        retriever.docstore.mset(\n",
    "            list(zip(doc_ids, doc_contents))\n",
    "        )  # 문서 내용을 문서 저장소에 추가\n",
    "\n",
    "    # 텍스트, 테이블, 이미지 추가\n",
    "    if text_summaries:\n",
    "        add_documents(retriever, text_summaries, texts)\n",
    "\n",
    "    if table_summaries:\n",
    "        add_documents(retriever, table_summaries, tables)\n",
    "\n",
    "    if image_summaries:\n",
    "        add_documents(retriever, image_summaries, images)\n",
    "\n",
    "    return retriever"
   ]
  },
  {
   "cell_type": "code",
   "execution_count": null,
   "id": "a776ae5f",
   "metadata": {
    "id": "a776ae5f"
   },
   "outputs": [],
   "source": [
    "# 요약을 색인화하기 위해 사용할 벡터 저장소\n",
    "vectorstore = Chroma(\n",
    "    collection_name=\"sample-rag-multi-modal\", embedding_function=OpenAIEmbeddings()\n",
    ")\n",
    "\n",
    "# 검색기 생성\n",
    "retriever_multi_vector_img = create_multi_vector_retriever(\n",
    "    vectorstore,\n",
    "    text_summaries,\n",
    "    texts,\n",
    "    table_summaries,\n",
    "    tables,\n",
    "    image_summaries,\n",
    "    img_base64_list,\n",
    ")"
   ]
  },
  {
   "cell_type": "markdown",
   "id": "c8174433",
   "metadata": {
    "id": "c8174433"
   },
   "source": [
    "## RAG\n",
    "\n",
    "### 검색기 구축\n",
    "\n",
    "검색된 문서를 GPT-4o 프롬프트 템플릿의 올바른 부분에 할당해야 합니다.\n"
   ]
  },
  {
   "cell_type": "markdown",
   "id": "62ad377f",
   "metadata": {
    "id": "62ad377f"
   },
   "source": [
    "다음은 Base64 인코딩된 이미지와 텍스트를 처리하고, 이를 활용하여 다중 모달 질의응답(질문-응답) 체인을 구성하는 방법을 설명합니다.\n",
    "\n",
    "- Base64 인코딩된 문자열이 이미지인지 확인합니다. 지원하는 이미지 포맷은 JPG, PNG, GIF, WEBP입니다.\n",
    "- Base64 인코딩된 이미지를 주어진 크기로 리사이즈합니다.\n",
    "- 문서 집합에서 Base64 인코딩된 이미지와 텍스트를 분리합니다.\n",
    "- 분리된 이미지와 텍스트를 사용하여 다중 모달 질의응답 체인의 입력으로 사용될 메시지를 구성합니다. 이 과정에서 이미지 URL과 텍스트 정보를 포함하는 메시지를 생성합니다.\n",
    "- 다중 모달 질의응답 체인을 구성합니다. 이 체인은 입력된 이미지와 텍스트 정보를 바탕으로 질문에 대한 응답을 생성하는 과정을 포함합니다. 사용된 모델은 `ChatOpenAI`이며, `gpt-4o` 모델을 사용합니다.\n",
    "\n",
    "이 과정은 이미지와 텍스트 데이터를 모두 활용하여 질문에 대한 응답을 생성하는 다중 모달 질의응답 시스템을 구현하는 방법을 제시합니다. 여기서는 이미지 데이터를 처리하기 위한 Base64 인코딩 및 디코딩, 이미지 리사이징, 그리고 이를 텍스트 정보와 함께 처리하여 질문에 대한 응답을 생성하는 과정이 포함됩니다.\n"
   ]
  },
  {
   "cell_type": "code",
   "execution_count": null,
   "id": "8ac7c5f9",
   "metadata": {
    "colab": {
     "base_uri": "https://localhost:8080/",
     "height": 38
    },
    "id": "8ac7c5f9",
    "outputId": "ac25743f-e715-4541-f442-77a8c8a854a1"
   },
   "outputs": [
    {
     "data": {
      "text/html": [
       "<img src=\"data:image/jpeg;base64,...\" />"
      ],
      "text/plain": [
       "<IPython.core.display.HTML object>"
      ]
     },
     "metadata": {},
     "output_type": "display_data"
    }
   ],
   "source": [
    "import io\n",
    "import re\n",
    "\n",
    "from IPython.display import HTML, display\n",
    "from langchain_core.runnables import RunnableLambda, RunnablePassthrough\n",
    "from PIL import Image\n",
    "\n",
    "\n",
    "def plt_img_base64(img_base64,width=None, height=None):\n",
    "    style = \"\"\n",
    "    if width:\n",
    "        style += f\"width:{width}px;\"\n",
    "    if height:\n",
    "        style += f\"height:{height}px;\"\n",
    "    \"\"\"base64 인코딩된 문자열을 이미지로 표시\"\"\"\n",
    "    # base64 문자열을 소스로 사용하는 HTML img 태그 생성\n",
    "    image_html = f'<img src=\"data:image/jpeg;base64,{img_base64}\" />'\n",
    "    # HTML을 렌더링하여 이미지 표시\n",
    "    display(HTML(image_html))\n",
    "\n",
    "# 예제 사용법\n",
    "img_base64 = \"...\"  # base64 인코딩된 이미지 문자열\n",
    "plt_img_base64(img_base64, width=300, height=200)\n",
    "\n",
    "# 이미지인지 아닌지 판단\n",
    "def looks_like_base64(sb):\n",
    "    \"\"\"문자열이 base64로 보이는지 확인\"\"\"\n",
    "    return re.match(\"^[A-Za-z0-9+/]+[=]{0,2}$\", sb) is not None\n",
    "\n",
    "\n",
    "def is_image_data(b64data):\n",
    "    \"\"\"\n",
    "    base64 데이터가 이미지인지 시작 부분을 보고 확인\n",
    "    \"\"\"\n",
    "    image_signatures = {\n",
    "        b\"\\xff\\xd8\\xff\": \"jpg\",\n",
    "        b\"\\x89\\x50\\x4e\\x47\\x0d\\x0a\\x1a\\x0a\": \"png\",\n",
    "        b\"\\x47\\x49\\x46\\x38\": \"gif\",\n",
    "        b\"\\x52\\x49\\x46\\x46\": \"webp\",\n",
    "    }\n",
    "    try:\n",
    "        header = base64.b64decode(b64data)[:8]  # 처음 8바이트를 디코드하여 가져옴\n",
    "        for sig, format in image_signatures.items():\n",
    "            if header.startswith(sig):\n",
    "                return True\n",
    "        return False\n",
    "    except Exception:\n",
    "        return False\n",
    "\n",
    "def resize_base64_image(base64_string, size=(128, 128)):\n",
    "    \"\"\"\n",
    "    Base64 문자열로 인코딩된 이미지의 크기 조정\n",
    "    \"\"\"\n",
    "    # Base64 문자열 디코드\n",
    "    img_data = base64.b64decode(base64_string)\n",
    "    img = Image.open(io.BytesIO(img_data))\n",
    "\n",
    "    # 이미지 크기 조정\n",
    "    resized_img = img.resize(size, Image.LANCZOS)\n",
    "\n",
    "    # 조정된 이미지를 바이트 버퍼에 저장\n",
    "    buffered = io.BytesIO()\n",
    "    resized_img.save(buffered, format=img.format)\n",
    "\n",
    "    # 조정된 이미지를 Base64로 인코딩\n",
    "    return base64.b64encode(buffered.getvalue()).decode(\"utf-8\")\n",
    "\n",
    "\n",
    "def split_image_text_types(docs):\n",
    "    \"\"\"\n",
    "    base64로 인코딩된 이미지와 텍스트 분리\n",
    "    \"\"\"\n",
    "    b64_images = []\n",
    "    texts = []\n",
    "    for doc in docs:\n",
    "        # 문서가 Document 타입인 경우 page_content 추출\n",
    "        if isinstance(doc, Document):\n",
    "            doc = doc.page_content\n",
    "        if looks_like_base64(doc) and is_image_data(doc):\n",
    "            doc = resize_base64_image(doc, size=(1300, 600))\n",
    "            b64_images.append(doc)\n",
    "        else:\n",
    "            texts.append(doc)\n",
    "    return {\"images\": b64_images, \"texts\": texts}\n",
    "\n",
    "\n",
    "def img_prompt_func(data_dict):\n",
    "    \"\"\"\n",
    "    컨텍스트를 단일 문자열로 결합\n",
    "    \"\"\"\n",
    "    formatted_texts = \"\\n\".join(data_dict[\"context\"][\"texts\"])\n",
    "    messages = []\n",
    "\n",
    "    # 이미지가 있으면 메시지에 추가\n",
    "    if data_dict[\"context\"][\"images\"]:\n",
    "        for image in data_dict[\"context\"][\"images\"]:\n",
    "            image_message = {\n",
    "                \"type\": \"image_url\",\n",
    "                \"image_url\": {\"url\": f\"data:image/jpeg;base64,{image}\"},\n",
    "            }\n",
    "            messages.append(image_message)\n",
    "\n",
    "    # 분석을 위한 텍스트 추가\n",
    "    text_message = {\n",
    "        \"type\": \"text\",\n",
    "        \"text\": (\n",
    "            \"You are financial analyst tasking with providing investment advice.\\n\"\n",
    "            \"You will be given a mixed of text, tables, and image(s) usually of charts or graphs.\\n\"\n",
    "            \"Use this information to provide investment advice related to the user question. Answer in Korean. Do NOT translate company names.\\n\"\n",
    "            f\"User-provided question: {data_dict['question']}\\n\\n\"\n",
    "            \"Text and / or tables:\\n\"\n",
    "            f\"{formatted_texts}\"\n",
    "        ),\n",
    "    }\n",
    "    messages.append(text_message)\n",
    "    return [HumanMessage(content=messages)]\n",
    "\n",
    "\n",
    "def multi_modal_rag_chain(retriever):\n",
    "    \"\"\"\n",
    "    멀티모달 RAG 체인\n",
    "    \"\"\"\n",
    "\n",
    "    # 멀티모달 LLM\n",
    "    model = ChatOpenAI(temperature=0, model=\"gpt-4o\", max_tokens=2048)\n",
    "\n",
    "    # RAG 파이프라인\n",
    "    chain = (\n",
    "        {\n",
    "            \"context\": retriever | RunnableLambda(split_image_text_types),\n",
    "            \"question\": RunnablePassthrough(),\n",
    "        }\n",
    "        | RunnableLambda(img_prompt_func)\n",
    "        | model\n",
    "        | StrOutputParser()\n",
    "    )\n",
    "\n",
    "    return chain\n",
    "\n",
    "\n",
    "# RAG 체인 생성\n",
    "chain_multimodal_rag = multi_modal_rag_chain(retriever_multi_vector_img)"
   ]
  },
  {
   "cell_type": "markdown",
   "id": "6ebb7c71",
   "metadata": {
    "id": "6ebb7c71"
   },
   "source": [
    "### 검사\n",
    "\n",
    "우리가 질문에 관련된 이미지를 검색할 때, 관련성 있는 이미지들을 되돌려 받습니다.\n"
   ]
  },
  {
   "cell_type": "code",
   "execution_count": null,
   "id": "fffd119c",
   "metadata": {
    "colab": {
     "base_uri": "https://localhost:8080/"
    },
    "id": "fffd119c",
    "outputId": "8c1e1eb1-580e-4610-9683-4ebba3384293"
   },
   "outputs": [
    {
     "data": {
      "text/plain": [
       "2"
      ]
     },
     "execution_count": 64,
     "metadata": {},
     "output_type": "execute_result"
    }
   ],
   "source": [
    "# 검색 질의 실행\n",
    "query = \"삼성전자 DX 부문 24년도 1Q의 매출 총액은 얼마인가?\"\n",
    "\n",
    "# 질의에 대한 문서 6개를 검색합니다.\n",
    "docs = retriever_multi_vector_img.invoke(query, limit=6)\n",
    "\n",
    "# 문서의 개수 확인\n",
    "len(docs)  # 검색된 문서의 개수를 반환합니다."
   ]
  },
  {
   "cell_type": "code",
   "execution_count": null,
   "id": "a97f817c",
   "metadata": {
    "colab": {
     "base_uri": "https://localhost:8080/",
     "height": 38
    },
    "id": "a97f817c",
    "outputId": "791ce3ac-9740-4d5d-bc2f-a012c8011a48"
   },
   "outputs": [
    {
     "data": {
      "text/html": [
       "<img src=\"data:image/jpeg;base64,삼성전자 \n",
       "\n",
       "경영설명회: 2024년 1분기\n",
       "\n",
       "SAMSUNG\n",
       "\n",
       "유의사항\n",
       "\n",
       "본 자료의 재무정보는 한국채택국제회계기준에 따라 작성된 연결 기준의 영업실적입니다. 본 자료에 포함된 “2024년 1분기 실적”은 본사, 자회사 및 관계사 등에 대한 외부감사인의 회계검토가 완료되지 않은 상태에서 투자자 여러분의 편의를 위해 작성된 자료이므로, 그 내용 중 일부는 회계검토과정에서 달라질 수 있음을 양지하시기 바랍니다. 또한 본 자료는 미래에 대한 “예측정보”를 포함하고 있습니다. 이는 과거가 아닌 미래의 사건과 관계된 것으로 회사의 향후 예상되는 경영현황 및 재무실적을 의미하고, 표현상으로는 ‘예상’, ‘전망’, ‘계획’, ‘기대’ 등과 같은 단어를 포함합니다. “예측정보”는 그 성격상 불확실한 사건들을 언급하는데, 회사의 향후 경영현황 및 재무실적에 긍정적 또는 부정적으로 영향을 미칠 수 있는 불확실성에는 다음과 같은 것들이 포함됩니다.\n",
       "\n",
       "· 환율, 이자율 등의 변동을 포함한 국내·외 금융시장의 동향 · 사업의 처분, 인수 등을 포함한 회사의 전략적인 의사결정 · DX: Device eXperience, DS: Device Solutions 등 회사가 영위하는 주요 사업분야의 예상치 못한 급격한 여건 변화 · 기타 경영현황 및 재무실적에 영향을 미칠 수 있는 국내·외적 변화\n",
       "\n",
       "이러한 불확실성으로 인해 회사의 실제 미래 실적은 “예측정보”에 명시적 또는 묵시적으로 포함된 내용과 중대한 차이가 있을 수 있음을 양지하시기 바랍니다.\n",
       "\n",
       "SAMSUNG\n",
       "\n",
       "SAMSUNG\n",
       "\n",
       "목차 \n",
       "\n",
       "'24년 1분기 실적발표 발표자\n",
       "\n",
       "사업부문별 실적 및 향후 전망\n",
       "\n",
       "'24년 1분기 경영실적 및 재무현황\n",
       "\n",
       "별첨\n",
       "\n",
       "사업부문별 매출 및 영업이익\n",
       "\n",
       "SAMSUNG\n",
       "\n",
       "'24년 1분기 실적발표 사업부문별 발표자\n",
       "\n",
       "다니엘 오 부사장 Investor Relations\n",
       "\n",
       "김재준 부사장 메모리\n",
       "\n",
       "LL _\n",
       "\n",
       "권형석 상무 System LSI\n",
       "\n",
       "송태중 상무 파운드리\n",
       "\n",
       "Ee\n",
       "\n",
       "|\n",
       "\n",
       "Device Solutions\n",
       "\n",
       "허철 부사장 삼성디스플레이\n",
       "\n",
       "다니엘아라우호 상무 Mobile eXperience\n",
       "\n",
       "노경래 상무 Visual Display\n",
       "\n",
       "Device eXperience\n",
       "\n",
       "SAMSUNG\n",
       "\n",
       "'24년 1분기 경영실적 및 재무현황 연결기준 전사 손익 분석 \n",
       "\n",
       "'24년 1분기 경영실적 및 재무현황 연결기준 전사 손익 분석  주요 수익성 지표  1Q '24  4Q '23  1Q '23  매출비중  매출비중  (단위: 조원)  1Q '24  4Q '23  1Q '23  매출액  71.92  67.78  63.75  100.0%  100.0%  ROE  7%  7%  2%  매출원가  45.89  46.12  46.01  63.8%  68.0%  매출액 순이익률 (순이익/매출)  0.09  0.09  0.02  매출총이익  26.03  21.66  17.74  36.2%  32.0%  총자산 회전율 (매출/총자산)  0.62  0.60  0.57  판관비  19.42  18.84  17.10  27.0%  27.8%  재무 레버리지 (총자산/총자본)  1.26  1.26  1.26  연구개발비  7.82  7.55  6.58  10.9%  11.1%  EBITDA 마진  22%  18%  15%  영업이익  6.61  2.82  0.64  9.2%  4.2%  기타영업외수익/비용  0.06  -  (0.27)  -  0.30  1Q '23  4Q '23  1Q '24  지분법손익  0.21  -  0.21  -  0.21  금융손익  0.82  -  0.76  -  0.67  7%  7%  법인세차감전이익  7.71  3.52  1.83  10.7%  5.2%  2%  법인세비용  0.95  -  (2.82)  -  0.25  순이익  6.75  6.34  1.57  9.4%  9.4%  22%  지배기업 소유주지분 순이익  6.62  9.2%  6.02  8.9%  1.40  18% \n",
       "\n",
       "SAMSUNG\n",
       "\n",
       "'24년 1분기 경영실적 및 재무현황 연결기준 전사 손익 분석\n",
       "\n",
       "주요 수익성 지표\" />"
      ],
      "text/plain": [
       "<IPython.core.display.HTML object>"
      ]
     },
     "metadata": {},
     "output_type": "display_data"
    }
   ],
   "source": [
    "# 관련 이미지를 반환합니다.\n",
    "plt_img_base64(docs[0])"
   ]
  },
  {
   "cell_type": "markdown",
   "id": "99b56aad",
   "metadata": {
    "id": "99b56aad"
   },
   "source": [
    "### 검증\n",
    "\n",
    "이것이 왜 작동하는지, 우리가 저장했던 이미지를 다시 살펴보겠습니다.\n"
   ]
  },
  {
   "cell_type": "code",
   "execution_count": null,
   "id": "7d420c81",
   "metadata": {
    "colab": {
     "base_uri": "https://localhost:8080/",
     "height": 678
    },
    "id": "7d420c81",
    "outputId": "72e32c5c-ba4e-4c3f-cd66-070239ea762a"
   },
   "outputs": [
    {
     "data": {
      "text/html": [
       "<img src=\"data:image/jpeg;base64,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\" />"
      ],
      "text/plain": [
       "<IPython.core.display.HTML object>"
      ]
     },
     "metadata": {},
     "output_type": "display_data"
    }
   ],
   "source": [
    "# img_base64_list 리스트의 5번 index 이미지를 base64 형식으로 표시합니다.\n",
    "plt_img_base64(img_base64_list[5])"
   ]
  },
  {
   "cell_type": "markdown",
   "id": "be761614",
   "metadata": {
    "id": "be761614"
   },
   "source": [
    "여기 해당 요약이 있으며, 우리는 이를 유사성 검색에 사용하기 위해 내장했습니다.\n",
    "\n",
    "이 이미지가 우리의 `query`를 기반으로 그 요약과의 유사성 때문에 검색된 것은 상당히 합리적입니다.\n"
   ]
  },
  {
   "cell_type": "code",
   "execution_count": null,
   "id": "afe0c6ec",
   "metadata": {
    "colab": {
     "base_uri": "https://localhost:8080/",
     "height": 36
    },
    "id": "afe0c6ec",
    "outputId": "1b8aa09b-c527-4a7a-e2a5-1bc68615793a"
   },
   "outputs": [
    {
     "data": {
      "application/vnd.google.colaboratory.intrinsic+json": {
       "type": "string"
      },
      "text/plain": [
       "'Samsung promotional banner with Korean text \"VD/가전/하만\" on a gradient blue background.'"
      ]
     },
     "execution_count": 57,
     "metadata": {},
     "output_type": "execute_result"
    }
   ],
   "source": [
    "image_summaries[5]  # image_summaries 리스트의 네 번째 요소에 접근합니다."
   ]
  },
  {
   "cell_type": "markdown",
   "id": "b4af0949",
   "metadata": {
    "id": "b4af0949"
   },
   "source": [
    "### RAG\n",
    "\n",
    "이제 RAG를 실행하고 우리의 질문에 대한 답변을 종합하는 능력을 테스트해 보겠습니다.\n"
   ]
  },
  {
   "cell_type": "code",
   "execution_count": null,
   "id": "e8a1de99",
   "metadata": {
    "colab": {
     "base_uri": "https://localhost:8080/"
    },
    "id": "e8a1de99",
    "outputId": "3f628a21-7ecc-4f4a-f0fe-2525998ae233"
   },
   "outputs": [
    {
     "name": "stdout",
     "output_type": "stream",
     "text": [
      "삼성전자 DX 부문 2024년도 1분기의 매출 총액은 47.29조 원입니다.\n"
     ]
    }
   ],
   "source": [
    "# RAG 체인 실행\n",
    "print(chain_multimodal_rag.invoke(query))"
   ]
  },
  {
   "cell_type": "markdown",
   "id": "f9c125bf",
   "metadata": {
    "id": "f9c125bf"
   },
   "source": [
    "### 고려사항\n",
    "\n",
    "**검색**\n",
    "\n",
    "- 검색은 이미지 요약과 텍스트 Chunk 와의 유사성을 기반으로 수행됩니다.\n",
    "- 이는 이미지 요약 검색 결과보다 다른 Text Chunk 가 경쟁 우위에 있을 경우 실패할 수 있기 때문에 신중한 고려가 필요합니다.\n",
    "\n",
    "**이미지 크기**\n",
    "\n",
    "- 답변 합성의 품질은 이미지 크기에 민감한 것으로 보입니다. [가이드에 명시 된 것 처럼..](https://platform.openai.com/docs/guides/vision).\n"
   ]
  }
 ],
 "metadata": {
  "accelerator": "GPU",
  "colab": {
   "gpuType": "T4",
   "provenance": []
  },
  "kernelspec": {
   "display_name": "Python 3 (ipykernel)",
   "language": "python",
   "name": "python3"
  },
  "language_info": {
   "codemirror_mode": {
    "name": "ipython",
    "version": 3
   },
   "file_extension": ".py",
   "mimetype": "text/x-python",
   "name": "python",
   "nbconvert_exporter": "python",
   "pygments_lexer": "ipython3",
   "version": "3.10.13"
  }
 },
 "nbformat": 4,
 "nbformat_minor": 5
}
